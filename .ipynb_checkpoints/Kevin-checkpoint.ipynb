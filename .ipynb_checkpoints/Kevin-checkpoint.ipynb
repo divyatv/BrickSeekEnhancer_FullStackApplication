{
 "cells": [
  {
   "cell_type": "code",
   "execution_count": 1,
   "metadata": {},
   "outputs": [],
   "source": [
    "import pandas as pd\n",
    "from sqlalchemy import create_engine\n",
    "import sqlalchemy\n",
    "import os"
   ]
  },
  {
   "cell_type": "code",
   "execution_count": 9,
   "metadata": {},
   "outputs": [],
   "source": [
    "csv_file = \"postgres_zip_city.csv\"\n",
    "customer_data_df = pd.read_csv(csv_file)\n",
    "#customer_data_df.head()"
   ]
  },
  {
   "cell_type": "code",
   "execution_count": 10,
   "metadata": {},
   "outputs": [],
   "source": [
    "customer_data_df= customer_data_df.reset_index()"
   ]
  },
  {
   "cell_type": "code",
   "execution_count": 13,
   "metadata": {},
   "outputs": [],
   "source": [
    "rds_connection_string = \"bedlgjelgbrcba:62edbf5e39edf1ea129a38a5766d7354579374a6db487103a421c76fd47d78c3@ec2-184-73-232-93.compute-1.amazonaws.com:5432/dd4i4baf4sjibo\"\n",
    "engine = create_engine(f'postgresql://{rds_connection_string}')"
   ]
  },
  {
   "cell_type": "code",
   "execution_count": 14,
   "metadata": {},
   "outputs": [
    {
     "data": {
      "text/plain": [
       "['test', 'zip_vs_coordinates']"
      ]
     },
     "execution_count": 14,
     "metadata": {},
     "output_type": "execute_result"
    }
   ],
   "source": [
    "engine.table_names()"
   ]
  },
  {
   "cell_type": "code",
   "execution_count": 15,
   "metadata": {},
   "outputs": [],
   "source": [
    "city_zip_data = 'city_zip_data'"
   ]
  },
  {
   "cell_type": "code",
   "execution_count": 16,
   "metadata": {},
   "outputs": [],
   "source": [
    "# drop city_zip_data if it exist already\n",
    "connection = engine.raw_connection()\n",
    "cursor = connection.cursor()\n",
    "command = \"DROP TABLE IF EXISTS {};\".format(city_zip_data)\n",
    "cursor.execute(command)\n",
    "connection.commit()\n",
    "cursor.close()"
   ]
  },
  {
   "cell_type": "code",
   "execution_count": 17,
   "metadata": {},
   "outputs": [
    {
     "data": {
      "text/plain": [
       "['test', 'zip_vs_coordinates']"
      ]
     },
     "execution_count": 17,
     "metadata": {},
     "output_type": "execute_result"
    }
   ],
   "source": [
    "engine.table_names()"
   ]
  },
  {
   "cell_type": "code",
   "execution_count": 18,
   "metadata": {},
   "outputs": [],
   "source": [
    "# create 'city_zip_data' table and fill up data \n",
    "customer_data_df.to_sql('city_zip_data', engine, dtype={col_name: sqlalchemy.types.VARCHAR for col_name in customer_data_df})"
   ]
  },
  {
   "cell_type": "code",
   "execution_count": 19,
   "metadata": {},
   "outputs": [
    {
     "data": {
      "text/html": [
       "<div>\n",
       "<style scoped>\n",
       "    .dataframe tbody tr th:only-of-type {\n",
       "        vertical-align: middle;\n",
       "    }\n",
       "\n",
       "    .dataframe tbody tr th {\n",
       "        vertical-align: top;\n",
       "    }\n",
       "\n",
       "    .dataframe thead th {\n",
       "        text-align: right;\n",
       "    }\n",
       "</style>\n",
       "<table border=\"1\" class=\"dataframe\">\n",
       "  <thead>\n",
       "    <tr style=\"text-align: right;\">\n",
       "      <th></th>\n",
       "      <th>level_0</th>\n",
       "      <th>index</th>\n",
       "      <th>city</th>\n",
       "      <th>zip</th>\n",
       "      <th>state</th>\n",
       "      <th>population</th>\n",
       "    </tr>\n",
       "  </thead>\n",
       "  <tbody>\n",
       "    <tr>\n",
       "      <th>0</th>\n",
       "      <td>0</td>\n",
       "      <td>0</td>\n",
       "      <td>Birmingham</td>\n",
       "      <td>35203</td>\n",
       "      <td>Alabama</td>\n",
       "      <td>231,483</td>\n",
       "    </tr>\n",
       "    <tr>\n",
       "      <th>1</th>\n",
       "      <td>1</td>\n",
       "      <td>1</td>\n",
       "      <td>Huntsville</td>\n",
       "      <td>35813</td>\n",
       "      <td>Alabama</td>\n",
       "      <td>166,313</td>\n",
       "    </tr>\n",
       "    <tr>\n",
       "      <th>2</th>\n",
       "      <td>2</td>\n",
       "      <td>2</td>\n",
       "      <td>Mobile</td>\n",
       "      <td>36601</td>\n",
       "      <td>Alabama</td>\n",
       "      <td>191,544</td>\n",
       "    </tr>\n",
       "    <tr>\n",
       "      <th>3</th>\n",
       "      <td>3</td>\n",
       "      <td>3</td>\n",
       "      <td>Montgomery</td>\n",
       "      <td>36119</td>\n",
       "      <td>Alabama</td>\n",
       "      <td>200,127</td>\n",
       "    </tr>\n",
       "    <tr>\n",
       "      <th>4</th>\n",
       "      <td>4</td>\n",
       "      <td>4</td>\n",
       "      <td>Anchorage</td>\n",
       "      <td>99599</td>\n",
       "      <td>Alaska</td>\n",
       "      <td>275,043</td>\n",
       "    </tr>\n",
       "  </tbody>\n",
       "</table>\n",
       "</div>"
      ],
      "text/plain": [
       "   level_0 index        city    zip    state population\n",
       "0        0     0  Birmingham  35203  Alabama    231,483\n",
       "1        1     1  Huntsville  35813  Alabama    166,313\n",
       "2        2     2      Mobile  36601  Alabama    191,544\n",
       "3        3     3  Montgomery  36119  Alabama    200,127\n",
       "4        4     4   Anchorage  99599   Alaska    275,043"
      ]
     },
     "execution_count": 19,
     "metadata": {},
     "output_type": "execute_result"
    }
   ],
   "source": [
    "pd.read_sql_query('select * from city_zip_data', con=engine).head()"
   ]
  },
  {
   "cell_type": "code",
   "execution_count": 20,
   "metadata": {},
   "outputs": [],
   "source": [
    "import sqlalchemy\n",
    "\n",
    "from sqlalchemy import Column, Integer, String, Float\n",
    "\n",
    "from sqlalchemy.orm import Session\n",
    "\n",
    "from sqlalchemy.ext.automap import automap_base\n",
    "\n",
    "from sqlalchemy import create_engine, inspect"
   ]
  },
  {
   "cell_type": "code",
   "execution_count": 21,
   "metadata": {},
   "outputs": [
    {
     "data": {
      "text/plain": [
       "['test', 'zip_vs_coordinates', 'city_zip_data']"
      ]
     },
     "execution_count": 21,
     "metadata": {},
     "output_type": "execute_result"
    }
   ],
   "source": [
    "inspector = inspect(engine)\n",
    "inspector.get_table_names()"
   ]
  },
  {
   "cell_type": "code",
   "execution_count": 22,
   "metadata": {},
   "outputs": [
    {
     "name": "stdout",
     "output_type": "stream",
     "text": [
      "zip\n"
     ]
    }
   ],
   "source": [
    "columns = inspector.get_columns('city_zip_data')\n",
    "print(columns[3]['name'])"
   ]
  },
  {
   "cell_type": "code",
   "execution_count": 34,
   "metadata": {},
   "outputs": [
    {
     "data": {
      "text/plain": [
       "['35203', '35813']"
      ]
     },
     "execution_count": 34,
     "metadata": {},
     "output_type": "execute_result"
    }
   ],
   "source": [
    "import re\n",
    "zips = [re.sub(\"\\'|\\,|\\(|\\)\", \"\", str(item)) for item in engine.execute('SELECT zip FROM city_zip_data LIMIT 2').fetchall()]\n",
    "zips"
   ]
  },
  {
   "cell_type": "code",
   "execution_count": 36,
   "metadata": {},
   "outputs": [],
   "source": [
    "# !!! important the sku must be set as variable  !!!\n",
    "sku = 625412161\n",
    "for item in zips:\n",
    "    command= 'curl --data ' + '\"sku=' + str(sku) + '&zip=' + item + '\" https://brickseek.com/walmart-inventory-checker? -o html'+ item +'.html'\n",
    "    output=os.system(command)\n",
    "    #print(command)"
   ]
  },
  {
   "cell_type": "code",
   "execution_count": 37,
   "metadata": {},
   "outputs": [],
   "source": [
    "from __future__ import division, unicode_literals \n",
    "import codecs\n",
    "from bs4 import BeautifulSoup\n",
    "import os\n",
    "\n",
    "filepath = os.path.join(\"html35203.html\")\n",
    "with open(filepath, encoding='utf-8') as file:\n",
    "    html = file.read()"
   ]
  },
  {
   "cell_type": "code",
   "execution_count": 38,
   "metadata": {},
   "outputs": [],
   "source": [
    "soup = BeautifulSoup(html, 'html.parser')"
   ]
  },
  {
   "cell_type": "code",
   "execution_count": 32,
   "metadata": {},
   "outputs": [],
   "source": [
    "#soup"
   ]
  },
  {
   "cell_type": "code",
   "execution_count": 39,
   "metadata": {},
   "outputs": [
    {
     "name": "stdout",
     "output_type": "stream",
     "text": [
      "<div class=\"table inventory-checker-table inventory-checker-table--store-availability-price inventory-checker-table--columns-3\">\n",
      "<div class=\"table__header\">\n",
      "<div class=\"table__row\">\n",
      "<div class=\"table__cell table__cell--align-left inventory-checker-table__store\">\n",
      "<div class=\"table__cell-content\">\n",
      "Store </div>\n",
      "</div>\n",
      "<div class=\"table__cell inventory-checker-table__availability\">\n",
      "<div class=\"table__cell-content\">\n",
      "Availability </div>\n",
      "</div>\n",
      "<div class=\"table__cell inventory-checker-table__price\">\n",
      "<div class=\"table__cell-content\">\n",
      "Price </div>\n",
      "</div>\n",
      "</div>\n",
      "</div>\n",
      "<div class=\"table__body\">\n",
      "<div class=\"table__row\">\n",
      "<div class=\"table__cell table__cell--align-left inventory-checker-table__store\">\n",
      "<div class=\"table__cell-content\">\n",
      "<strong class=\"address-location-name\">\n",
      "Walmart Supercenter #1481 </strong>\n",
      "<address class=\"address\">\n",
      "209 Lakeshore Pkwy<br/>Homewood AL 35209 <div class=\"address__below\">\n",
      "(4.9 Miles Away) </div>\n",
      "<div class=\"address__links\">\n",
      "<a class=\"address__link\" href=\"https://maps.google.com/maps?q=209+Lakeshore+Pkwy+Homewood+AL+35209\" rel=\"noopener noreferrer\" target=\"_blank\">Google Maps</a>\n",
      "<span class=\"address__link-separator\"></span>\n",
      "<a class=\"address__link\" href=\"http://maps.apple.com/?address=209+Lakeshore+Pkwy+Homewood+AL+35209\">Apple Maps</a>\n",
      "</div>\n",
      "</address>\n",
      "</div>\n",
      "</div>\n",
      "<div class=\"table__cell inventory-checker-table__availability\">\n",
      "<div class=\"table__cell-content\">\n",
      "<div class=\"availability-status-indicator availability-status-indicator--stock-2 availability-status-indicator--style-label\" data-store-type=\"3\"><span class=\"availability-status-indicator__text\">In Stock</span></div> <span class=\"table__cell-quantity\">Quantity: 3</span><br>\n",
      "</br></div>\n",
      "</div>\n",
      "<div class=\"table__cell inventory-checker-table__price\">\n",
      "<div class=\"table__cell-content\">\n",
      "<div class=\"table__cell-price table__cell-price--featured\">\n",
      "<span class=\"price-formatted price-formatted--style-display\"><span class=\"price-formatted__currency\">$</span><span class=\"price-formatted__dollars\">30</span><span class=\"price-formatted__decimal\">.</span><span class=\"price-formatted__cents\">00</span></span> <span class=\"table__cell-price-discount\">76% off</span>\n",
      "</div>\n",
      "</div>\n",
      "</div>\n",
      "</div>\n",
      "<div class=\"table__row\">\n",
      "<div class=\"table__cell table__cell--align-left inventory-checker-table__store\">\n",
      "<div class=\"table__cell-content\">\n",
      "<strong class=\"address-location-name\">\n",
      "Walmart Supercenter #762 </strong>\n",
      "<address class=\"address\">\n",
      "9248 Parkway E<br/>Birmingham AL 35206 <div class=\"address__below\">\n",
      "(8 Miles Away) </div>\n",
      "<div class=\"address__links\">\n",
      "<a class=\"address__link\" href=\"https://maps.google.com/maps?q=9248+Parkway+E+Birmingham+AL+35206\" rel=\"noopener noreferrer\" target=\"_blank\">Google Maps</a>\n",
      "<span class=\"address__link-separator\"></span>\n",
      "<a class=\"address__link\" href=\"http://maps.apple.com/?address=9248+Parkway+E+Birmingham+AL+35206\">Apple Maps</a>\n",
      "</div>\n",
      "</address>\n",
      "</div>\n",
      "</div>\n",
      "<div class=\"table__cell inventory-checker-table__availability\">\n",
      "<div class=\"table__cell-content\">\n",
      "<div class=\"availability-status-indicator availability-status-indicator--stock-2 availability-status-indicator--style-label\" data-store-type=\"3\"><span class=\"availability-status-indicator__text\">In Stock</span></div> <span class=\"table__cell-quantity\">Quantity: 2</span><br>\n",
      "</br></div>\n",
      "</div>\n",
      "<div class=\"table__cell inventory-checker-table__price\">\n",
      "<div class=\"table__cell-content\">\n",
      "<div class=\"table__cell-price table__cell-price--featured\">\n",
      "<span class=\"price-formatted price-formatted--style-display\"><span class=\"price-formatted__currency\">$</span><span class=\"price-formatted__dollars\">30</span><span class=\"price-formatted__decimal\">.</span><span class=\"price-formatted__cents\">00</span></span> <span class=\"table__cell-price-discount\">76% off</span>\n",
      "</div>\n",
      "</div>\n",
      "</div>\n",
      "</div>\n",
      "<div class=\"table__row\">\n",
      "<div class=\"table__cell table__cell--align-left inventory-checker-table__store\">\n",
      "<div class=\"table__cell-content\">\n",
      "<strong class=\"address-location-name\">\n",
      "Walmart Supercenter #1201 </strong>\n",
      "<address class=\"address\">\n",
      "890 Odum Rd<br/>Gardendale AL 35071 <div class=\"address__below\">\n",
      "(9 Miles Away) </div>\n",
      "<div class=\"address__links\">\n",
      "<a class=\"address__link\" href=\"https://maps.google.com/maps?q=890+Odum+Rd+Gardendale+AL+35071\" rel=\"noopener noreferrer\" target=\"_blank\">Google Maps</a>\n",
      "<span class=\"address__link-separator\"></span>\n",
      "<a class=\"address__link\" href=\"http://maps.apple.com/?address=890+Odum+Rd+Gardendale+AL+35071\">Apple Maps</a>\n",
      "</div>\n",
      "</address>\n",
      "</div>\n",
      "</div>\n",
      "<div class=\"table__cell inventory-checker-table__availability\">\n",
      "<div class=\"table__cell-content\">\n",
      "<div class=\"availability-status-indicator availability-status-indicator--stock-2 availability-status-indicator--style-label\" data-store-type=\"3\"><span class=\"availability-status-indicator__text\">In Stock</span></div> <span class=\"table__cell-quantity\">Quantity: 2</span><br>\n",
      "</br></div>\n",
      "</div>\n",
      "<div class=\"table__cell inventory-checker-table__price\">\n",
      "<div class=\"table__cell-content\">\n",
      "<div class=\"table__cell-price table__cell-price--featured\">\n",
      "<span class=\"price-formatted price-formatted--style-display\"><span class=\"price-formatted__currency\">$</span><span class=\"price-formatted__dollars\">30</span><span class=\"price-formatted__decimal\">.</span><span class=\"price-formatted__cents\">00</span></span> <span class=\"table__cell-price-discount\">76% off</span>\n",
      "</div>\n",
      "</div>\n",
      "</div>\n",
      "</div>\n",
      "<div class=\"ad ad--location-main_content_1\" data-ad-slot=\"brickseek_728x90_300x250_320x50_inlist_1\">\n",
      "<div class=\"ad__slot\">\n",
      "<div align=\"center\" id=\"brickseek_728x90_300x250_320x50_inlist_1\">\n",
      "<script data-cfasync=\"false\" type=\"text/javascript\">\n",
      "    freestar.queue.push(function () { googletag.display('brickseek_728x90_300x250_320x50_inlist_1'); });\n",
      "</script>\n",
      "</div> </div>\n",
      "</div>\n",
      "<div class=\"table__row\">\n",
      "<div class=\"table__cell table__cell--align-left inventory-checker-table__store\">\n",
      "<div class=\"table__cell-content\">\n",
      "<strong class=\"address-location-name\">\n",
      "Walmart Supercenter #2111 </strong>\n",
      "<address class=\"address\">\n",
      "5335 Highway 280<br/>Birmingham AL 35242 <div class=\"address__below\">\n",
      "(10.1 Miles Away) </div>\n",
      "<div class=\"address__links\">\n",
      "<a class=\"address__link\" href=\"https://maps.google.com/maps?q=5335+Highway+280+Birmingham+AL+35242\" rel=\"noopener noreferrer\" target=\"_blank\">Google Maps</a>\n",
      "<span class=\"address__link-separator\"></span>\n",
      "<a class=\"address__link\" href=\"http://maps.apple.com/?address=5335+Highway+280+Birmingham+AL+35242\">Apple Maps</a>\n",
      "</div>\n",
      "</address>\n",
      "</div>\n",
      "</div>\n",
      "<div class=\"table__cell inventory-checker-table__availability\">\n",
      "<div class=\"table__cell-content\">\n",
      "<div class=\"availability-status-indicator availability-status-indicator--stock-2 availability-status-indicator--style-label\" data-store-type=\"3\"><span class=\"availability-status-indicator__text\">In Stock</span></div> <span class=\"table__cell-quantity\">Quantity: 2</span><br>\n",
      "</br></div>\n",
      "</div>\n",
      "<div class=\"table__cell inventory-checker-table__price\">\n",
      "<div class=\"table__cell-content\">\n",
      "<div class=\"table__cell-price table__cell-price--featured\">\n",
      "<span class=\"price-formatted price-formatted--style-display\"><span class=\"price-formatted__currency\">$</span><span class=\"price-formatted__dollars\">30</span><span class=\"price-formatted__decimal\">.</span><span class=\"price-formatted__cents\">00</span></span> <span class=\"table__cell-price-discount\">76% off</span>\n",
      "</div>\n",
      "</div>\n",
      "</div>\n",
      "</div>\n",
      "<div class=\"table__row\">\n",
      "<div class=\"table__cell table__cell--align-left inventory-checker-table__store\">\n",
      "<div class=\"table__cell-content\">\n",
      "<strong class=\"address-location-name\">\n",
      "Walmart Supercenter #1229 </strong>\n",
      "<address class=\"address\">\n",
      "2780 John Hawkins Pkwy<br/>Hoover AL 35244 <div class=\"address__below\">\n",
      "(10.8 Miles Away) </div>\n",
      "<div class=\"address__links\">\n",
      "<a class=\"address__link\" href=\"https://maps.google.com/maps?q=2780+John+Hawkins+Pkwy+Hoover+AL+35244\" rel=\"noopener noreferrer\" target=\"_blank\">Google Maps</a>\n",
      "<span class=\"address__link-separator\"></span>\n",
      "<a class=\"address__link\" href=\"http://maps.apple.com/?address=2780+John+Hawkins+Pkwy+Hoover+AL+35244\">Apple Maps</a>\n",
      "</div>\n",
      "</address>\n",
      "</div>\n",
      "</div>\n",
      "<div class=\"table__cell inventory-checker-table__availability\">\n",
      "<div class=\"table__cell-content\">\n",
      "<div class=\"availability-status-indicator availability-status-indicator--stock-1 availability-status-indicator--style-label\" data-store-type=\"3\"><span class=\"availability-status-indicator__text\">Limited Stock</span></div> </div>\n",
      "</div>\n",
      "<div class=\"table__cell inventory-checker-table__price\">\n",
      "<div class=\"table__cell-content\">\n",
      "<div class=\"table__cell-price table__cell-price--featured\">\n",
      "<span class=\"price-formatted price-formatted--style-display\"><span class=\"price-formatted__currency\">$</span><span class=\"price-formatted__dollars\">30</span><span class=\"price-formatted__decimal\">.</span><span class=\"price-formatted__cents\">00</span></span> <span class=\"table__cell-price-discount\">76% off</span>\n",
      "</div>\n",
      "</div>\n",
      "</div>\n",
      "</div>\n",
      "<div class=\"table__row\">\n",
      "<div class=\"table__cell table__cell--align-left inventory-checker-table__store\">\n",
      "<div class=\"table__cell-content\">\n",
      "<strong class=\"address-location-name\">\n",
      "Walmart Supercenter #562 </strong>\n",
      "<address class=\"address\">\n",
      "8551 Whitfield Ave<br/>Leeds AL 35094 <div class=\"address__below\">\n",
      "(17 Miles Away) </div>\n",
      "<div class=\"address__links\">\n",
      "<a class=\"address__link\" href=\"https://maps.google.com/maps?q=8551+Whitfield+Ave+Leeds+AL+35094\" rel=\"noopener noreferrer\" target=\"_blank\">Google Maps</a>\n",
      "<span class=\"address__link-separator\"></span>\n",
      "<a class=\"address__link\" href=\"http://maps.apple.com/?address=8551+Whitfield+Ave+Leeds+AL+35094\">Apple Maps</a>\n",
      "</div>\n",
      "</address>\n",
      "</div>\n",
      "</div>\n",
      "<div class=\"table__cell inventory-checker-table__availability\">\n",
      "<div class=\"table__cell-content\">\n",
      "<div class=\"availability-status-indicator availability-status-indicator--stock-2 availability-status-indicator--style-label\" data-store-type=\"3\"><span class=\"availability-status-indicator__text\">In Stock</span></div> <span class=\"table__cell-quantity\">Quantity: 3</span><br>\n",
      "</br></div>\n",
      "</div>\n",
      "<div class=\"table__cell inventory-checker-table__price\">\n",
      "<div class=\"table__cell-content\">\n",
      "<div class=\"table__cell-price table__cell-price--featured\">\n",
      "<span class=\"price-formatted price-formatted--style-display\"><span class=\"price-formatted__currency\">$</span><span class=\"price-formatted__dollars\">30</span><span class=\"price-formatted__decimal\">.</span><span class=\"price-formatted__cents\">00</span></span> <span class=\"table__cell-price-discount\">76% off</span>\n",
      "</div>\n",
      "</div>\n",
      "</div>\n",
      "</div>\n",
      "<div class=\"table__row\">\n",
      "<div class=\"table__cell table__cell--align-left inventory-checker-table__store\">\n",
      "<div class=\"table__cell-content\">\n",
      "<strong class=\"address-location-name\">\n",
      "Walmart Supercenter #423 </strong>\n",
      "<address class=\"address\">\n",
      "630 Colonial Promenade Pkwy<br/>Alabaster AL 35007 <div class=\"address__below\">\n",
      "(19.5 Miles Away) </div>\n",
      "<div class=\"address__links\">\n",
      "<a class=\"address__link\" href=\"https://maps.google.com/maps?q=630+Colonial+Promenade+Pkwy+Alabaster+AL+35007\" rel=\"noopener noreferrer\" target=\"_blank\">Google Maps</a>\n",
      "<span class=\"address__link-separator\"></span>\n",
      "<a class=\"address__link\" href=\"http://maps.apple.com/?address=630+Colonial+Promenade+Pkwy+Alabaster+AL+35007\">Apple Maps</a>\n",
      "</div>\n",
      "</address>\n",
      "</div>\n",
      "</div>\n",
      "<div class=\"table__cell inventory-checker-table__availability\">\n",
      "<div class=\"table__cell-content\">\n",
      "<div class=\"availability-status-indicator availability-status-indicator--stock-1 availability-status-indicator--style-label\" data-store-type=\"3\"><span class=\"availability-status-indicator__text\">Limited Stock</span></div> </div>\n",
      "</div>\n",
      "<div class=\"table__cell inventory-checker-table__price\">\n",
      "<div class=\"table__cell-content\">\n",
      "<div class=\"table__cell-price table__cell-price--featured\">\n",
      "<span class=\"price-formatted price-formatted--style-display\"><span class=\"price-formatted__currency\">$</span><span class=\"price-formatted__dollars\">30</span><span class=\"price-formatted__decimal\">.</span><span class=\"price-formatted__cents\">00</span></span> <span class=\"table__cell-price-discount\">76% off</span>\n",
      "</div>\n",
      "</div>\n",
      "</div>\n",
      "</div>\n",
      "<div class=\"ad ad--location-main_content_2\" data-ad-slot=\"brickseek_728x90_300x250_320x50_inlist_2\">\n",
      "<div class=\"ad__slot\">\n",
      "<div align=\"center\" id=\"brickseek_728x90_300x250_320x50_inlist_2\">\n",
      "<script data-cfasync=\"false\" type=\"text/javascript\">\n",
      "    freestar.queue.push(function () { googletag.display('brickseek_728x90_300x250_320x50_inlist_2'); });\n",
      "</script>\n",
      "</div> </div>\n",
      "</div>\n",
      "<div class=\"table__row\">\n",
      "<div class=\"table__cell table__cell--align-left inventory-checker-table__store\">\n",
      "<div class=\"table__cell-content\">\n",
      "<strong class=\"address-location-name\">\n",
      "Walmart Supercenter #5262 </strong>\n",
      "<address class=\"address\">\n",
      "2181 Pelham Pkwy<br/>Pelham AL 35124 <div class=\"address__below\">\n",
      "(12.3 Miles Away) </div>\n",
      "<div class=\"address__links\">\n",
      "<a class=\"address__link\" href=\"https://maps.google.com/maps?q=2181+Pelham+Pkwy+Pelham+AL+35124\" rel=\"noopener noreferrer\" target=\"_blank\">Google Maps</a>\n",
      "<span class=\"address__link-separator\"></span>\n",
      "<a class=\"address__link\" href=\"http://maps.apple.com/?address=2181+Pelham+Pkwy+Pelham+AL+35124\">Apple Maps</a>\n",
      "</div>\n",
      "</address>\n",
      "</div>\n",
      "</div>\n",
      "<div class=\"table__cell inventory-checker-table__availability\">\n",
      "<div class=\"table__cell-content\">\n",
      "<div class=\"availability-status-indicator availability-status-indicator--stock-0 availability-status-indicator--style-label\" data-store-type=\"3\"><span class=\"availability-status-indicator__text\">Out of Stock</span></div> </div>\n",
      "</div>\n",
      "<div class=\"table__cell inventory-checker-table__price\">\n",
      "<div class=\"table__cell-content\">\n",
      "<div class=\"table__cell-price table__cell-price--featured\">\n",
      "<span class=\"price-formatted price-formatted--style-display\"><span class=\"price-formatted__currency\">$</span><span class=\"price-formatted__dollars\">30</span><span class=\"price-formatted__decimal\">.</span><span class=\"price-formatted__cents\">00</span></span> <span class=\"table__cell-price-discount\">76% off</span>\n",
      "</div>\n",
      "</div>\n",
      "</div>\n",
      "</div>\n",
      "<div class=\"table__row\">\n",
      "<div class=\"table__cell table__cell--align-left inventory-checker-table__store\">\n",
      "<div class=\"table__cell-content\">\n",
      "<strong class=\"address-location-name\">\n",
      "Walmart Supercenter #2713 </strong>\n",
      "<address class=\"address\">\n",
      "5919 Trussville Crossings Pkwy<br/>Birmingham AL 35235 <div class=\"address__below\">\n",
      "(13.4 Miles Away) </div>\n",
      "<div class=\"address__links\">\n",
      "<a class=\"address__link\" href=\"https://maps.google.com/maps?q=5919+Trussville+Crossings+Pkwy+Birmingham+AL+35235\" rel=\"noopener noreferrer\" target=\"_blank\">Google Maps</a>\n",
      "<span class=\"address__link-separator\"></span>\n",
      "<a class=\"address__link\" href=\"http://maps.apple.com/?address=5919+Trussville+Crossings+Pkwy+Birmingham+AL+35235\">Apple Maps</a>\n",
      "</div>\n",
      "</address>\n",
      "</div>\n",
      "</div>\n",
      "<div class=\"table__cell inventory-checker-table__availability\">\n",
      "<div class=\"table__cell-content\">\n",
      "<div class=\"availability-status-indicator availability-status-indicator--stock-0 availability-status-indicator--style-label\" data-store-type=\"3\"><span class=\"availability-status-indicator__text\">Out of Stock</span></div> </div>\n",
      "</div>\n",
      "<div class=\"table__cell inventory-checker-table__price\">\n",
      "<div class=\"table__cell-content\">\n",
      "<div class=\"table__cell-price table__cell-price--featured\">\n",
      "<span class=\"price-formatted price-formatted--style-display\"><span class=\"price-formatted__currency\">$</span><span class=\"price-formatted__dollars\">30</span><span class=\"price-formatted__decimal\">.</span><span class=\"price-formatted__cents\">00</span></span> <span class=\"table__cell-price-discount\">76% off</span>\n",
      "</div>\n",
      "</div>\n",
      "</div>\n",
      "</div>\n",
      "<div class=\"table__row\">\n",
      "<div class=\"table__cell table__cell--align-left inventory-checker-table__store\">\n",
      "<div class=\"table__cell-content\">\n",
      "<strong class=\"address-location-name\">\n",
      "Walmart Supercenter #4330 </strong>\n",
      "<address class=\"address\">\n",
      "16077 Highway 280<br/>Chelsea AL 35043 <div class=\"address__below\">\n",
      "(16 Miles Away) </div>\n",
      "<div class=\"address__links\">\n",
      "<a class=\"address__link\" href=\"https://maps.google.com/maps?q=16077+Highway+280+Chelsea+AL+35043\" rel=\"noopener noreferrer\" target=\"_blank\">Google Maps</a>\n",
      "<span class=\"address__link-separator\"></span>\n",
      "<a class=\"address__link\" href=\"http://maps.apple.com/?address=16077+Highway+280+Chelsea+AL+35043\">Apple Maps</a>\n",
      "</div>\n",
      "</address>\n",
      "</div>\n",
      "</div>\n",
      "<div class=\"table__cell inventory-checker-table__availability\">\n",
      "<div class=\"table__cell-content\">\n",
      "<div class=\"availability-status-indicator availability-status-indicator--stock-0 availability-status-indicator--style-label\" data-store-type=\"3\"><span class=\"availability-status-indicator__text\">Out of Stock</span></div> </div>\n",
      "</div>\n",
      "<div class=\"table__cell inventory-checker-table__price\">\n",
      "<div class=\"table__cell-content\">\n",
      "<div class=\"table__cell-price\">\n",
      "<span class=\"price-formatted price-formatted--style-display\"><span class=\"price-formatted__currency\">$</span><span class=\"price-formatted__dollars\">59</span><span class=\"price-formatted__decimal\">.</span><span class=\"price-formatted__cents\">00</span></span> <span class=\"table__cell-price-discount\">53% off</span>\n",
      "</div>\n",
      "</div>\n",
      "</div>\n",
      "</div>\n",
      "<div class=\"table__row\">\n",
      "<div class=\"table__cell table__cell--align-left inventory-checker-table__store\">\n",
      "<div class=\"table__cell-content\">\n",
      "<strong class=\"address-location-name\">\n",
      "Walmart Supercenter #1158 </strong>\n",
      "<address class=\"address\">\n",
      "2473 Hackworth Rd<br/>Birmingham AL 35214 <div class=\"address__below\">\n",
      "(7.9 Miles Away) </div>\n",
      "<div class=\"address__links\">\n",
      "<a class=\"address__link\" href=\"https://maps.google.com/maps?q=2473+Hackworth+Rd+Birmingham+AL+35214\" rel=\"noopener noreferrer\" target=\"_blank\">Google Maps</a>\n",
      "<span class=\"address__link-separator\"></span>\n",
      "<a class=\"address__link\" href=\"http://maps.apple.com/?address=2473+Hackworth+Rd+Birmingham+AL+35214\">Apple Maps</a>\n",
      "</div>\n",
      "</address>\n",
      "</div>\n",
      "</div>\n",
      "<div class=\"table__cell inventory-checker-table__availability\">\n",
      "<div class=\"table__cell-content\">\n",
      "<div class=\"availability-status-indicator availability-status-indicator--stock-0 availability-status-indicator--style-label\" data-store-type=\"3\"><span class=\"availability-status-indicator__text\">Out of Stock</span></div> </div>\n",
      "</div>\n",
      "<div class=\"table__cell inventory-checker-table__price\">\n",
      "<div class=\"table__cell-content\">\n",
      "<div class=\"table__cell-price table__cell-price--muted\">\n",
      "<span class=\"price-formatted price-formatted--style-display\"><span class=\"price-formatted__currency\">$</span><span class=\"price-formatted__dollars\">118</span><span class=\"price-formatted__decimal\">.</span><span class=\"price-formatted__cents\">00</span></span> <span class=\"table__cell-price-discount\">6% off</span>\n",
      "</div>\n",
      "</div>\n",
      "</div>\n",
      "</div>\n",
      "<div class=\"ad ad--location-main_content_3\" data-ad-slot=\"brickseek_728x90_300x250_320x50_inlist_3\">\n",
      "<div class=\"ad__slot\">\n",
      "<div align=\"center\" id=\"brickseek_728x90_300x250_320x50_inlist_3\">\n",
      "<script data-cfasync=\"false\" type=\"text/javascript\">\n",
      "    freestar.queue.push(function () { googletag.display('brickseek_728x90_300x250_320x50_inlist_3'); });\n",
      "</script>\n",
      "</div> </div>\n",
      "</div>\n",
      "</div>\n",
      "</div>\n"
     ]
    }
   ],
   "source": [
    "all_data = soup.find('div', class_=\"table inventory-checker-table inventory-checker-table--store-availability-price inventory-checker-table--columns-3\")\n",
    "# .find('span', class_=\"table__cell-price-discount\")\n",
    "print(all_data)"
   ]
  },
  {
   "cell_type": "code",
   "execution_count": 42,
   "metadata": {},
   "outputs": [
    {
     "name": "stdout",
     "output_type": "stream",
     "text": [
      "[<span class=\"table__cell-price-discount\">76% off</span>, <span class=\"table__cell-price-discount\">76% off</span>, <span class=\"table__cell-price-discount\">76% off</span>, <span class=\"table__cell-price-discount\">76% off</span>, <span class=\"table__cell-price-discount\">76% off</span>, <span class=\"table__cell-price-discount\">76% off</span>, <span class=\"table__cell-price-discount\">76% off</span>, <span class=\"table__cell-price-discount\">76% off</span>, <span class=\"table__cell-price-discount\">76% off</span>, <span class=\"table__cell-price-discount\">53% off</span>, <span class=\"table__cell-price-discount\">6% off</span>]\n"
     ]
    }
   ],
   "source": [
    "price_value=all_data.find_all('span', class_='table__cell-price-discount')\n",
    "print(price_value)"
   ]
  },
  {
   "cell_type": "code",
   "execution_count": 43,
   "metadata": {},
   "outputs": [
    {
     "name": "stdout",
     "output_type": "stream",
     "text": [
      "['76% off', '76% off', '76% off', '76% off', '76% off', '76% off', '76% off', '76% off', '76% off', '53% off', '6% off']\n"
     ]
    }
   ],
   "source": [
    "discount=[]\n",
    "\n",
    "for item in price_value:\n",
    "    discount.append(item.text)\n",
    "print(discount)"
   ]
  },
  {
   "cell_type": "code",
   "execution_count": 44,
   "metadata": {},
   "outputs": [
    {
     "name": "stdout",
     "output_type": "stream",
     "text": [
      "['209 Lakeshore PkwyHomewood AL 35209 ', '9248 Parkway EBirmingham AL 35206 ', '890 Odum RdGardendale AL 35071 ', '5335 Highway 280Birmingham AL 35242 ', '2780 John Hawkins PkwyHoover AL 35244 ', '8551 Whitfield AveLeeds AL 35094 ', '630 Colonial Promenade PkwyAlabaster AL 35007 ', '2181 Pelham PkwyPelham AL 35124 ', '5919 Trussville Crossings PkwyBirmingham AL 35235 ', '16077 Highway 280Chelsea AL 35043 ', '2473 Hackworth RdBirmingham AL 35214 ']\n"
     ]
    }
   ],
   "source": [
    "address_ex = [item.text.split('\\n')[1] for item in all_data.find_all('address', class_='address') ]\n",
    "print(address_ex)"
   ]
  },
  {
   "cell_type": "code",
   "execution_count": 45,
   "metadata": {},
   "outputs": [
    {
     "name": "stdout",
     "output_type": "stream",
     "text": [
      "['In Stock', 'In Stock', 'In Stock', 'In Stock', 'Limited Stock', 'In Stock', 'Limited Stock', 'Out of Stock', 'Out of Stock', 'Out of Stock', 'Out of Stock']\n"
     ]
    }
   ],
   "source": [
    "quantity=[ indi.text for indi in all_data.find_all('span', class_='availability-status-indicator__text') ]\n",
    "print(quantity)"
   ]
  },
  {
   "cell_type": "code",
   "execution_count": 57,
   "metadata": {},
   "outputs": [
    {
     "ename": "IndexError",
     "evalue": "list index out of range",
     "output_type": "error",
     "traceback": [
      "\u001b[1;31m---------------------------------------------------------------------------\u001b[0m",
      "\u001b[1;31mIndexError\u001b[0m                                Traceback (most recent call last)",
      "\u001b[1;32m<ipython-input-57-5dbb8f06edcb>\u001b[0m in \u001b[0;36m<module>\u001b[1;34m\u001b[0m\n\u001b[1;32m----> 1\u001b[1;33m \u001b[0mpages\u001b[0m \u001b[1;33m=\u001b[0m \u001b[1;33m[\u001b[0m \u001b[1;33m{\u001b[0m\u001b[1;34m\"price-off\"\u001b[0m\u001b[1;33m:\u001b[0m \u001b[0mdiscount\u001b[0m\u001b[1;33m[\u001b[0m\u001b[0mi\u001b[0m\u001b[1;33m]\u001b[0m\u001b[1;33m,\u001b[0m \u001b[1;34m\"store-address\"\u001b[0m \u001b[1;33m:\u001b[0m \u001b[0maddress_ex\u001b[0m\u001b[1;33m[\u001b[0m\u001b[0mi\u001b[0m\u001b[1;33m]\u001b[0m\u001b[1;33m,\u001b[0m \u001b[1;34m\"quantity\"\u001b[0m\u001b[1;33m:\u001b[0m \u001b[0mquantity\u001b[0m\u001b[1;33m[\u001b[0m\u001b[0mi\u001b[0m\u001b[1;33m]\u001b[0m\u001b[1;33m,\u001b[0m \u001b[1;34m\"zip_code\"\u001b[0m\u001b[1;33m:\u001b[0m\u001b[0mzips\u001b[0m\u001b[1;33m[\u001b[0m\u001b[0mi\u001b[0m\u001b[1;33m]\u001b[0m \u001b[1;33m}\u001b[0m  \u001b[1;32mfor\u001b[0m \u001b[0mi\u001b[0m \u001b[1;32min\u001b[0m \u001b[0mrange\u001b[0m\u001b[1;33m(\u001b[0m\u001b[0mlen\u001b[0m\u001b[1;33m(\u001b[0m\u001b[0mdiscount\u001b[0m\u001b[1;33m)\u001b[0m\u001b[1;33m)\u001b[0m\u001b[1;33m]\u001b[0m\u001b[1;33m\u001b[0m\u001b[1;33m\u001b[0m\u001b[0m\n\u001b[0m",
      "\u001b[1;32m<ipython-input-57-5dbb8f06edcb>\u001b[0m in \u001b[0;36m<listcomp>\u001b[1;34m(.0)\u001b[0m\n\u001b[1;32m----> 1\u001b[1;33m \u001b[0mpages\u001b[0m \u001b[1;33m=\u001b[0m \u001b[1;33m[\u001b[0m \u001b[1;33m{\u001b[0m\u001b[1;34m\"price-off\"\u001b[0m\u001b[1;33m:\u001b[0m \u001b[0mdiscount\u001b[0m\u001b[1;33m[\u001b[0m\u001b[0mi\u001b[0m\u001b[1;33m]\u001b[0m\u001b[1;33m,\u001b[0m \u001b[1;34m\"store-address\"\u001b[0m \u001b[1;33m:\u001b[0m \u001b[0maddress_ex\u001b[0m\u001b[1;33m[\u001b[0m\u001b[0mi\u001b[0m\u001b[1;33m]\u001b[0m\u001b[1;33m,\u001b[0m \u001b[1;34m\"quantity\"\u001b[0m\u001b[1;33m:\u001b[0m \u001b[0mquantity\u001b[0m\u001b[1;33m[\u001b[0m\u001b[0mi\u001b[0m\u001b[1;33m]\u001b[0m\u001b[1;33m,\u001b[0m \u001b[1;34m\"zip_code\"\u001b[0m\u001b[1;33m:\u001b[0m\u001b[0mzips\u001b[0m\u001b[1;33m[\u001b[0m\u001b[0mi\u001b[0m\u001b[1;33m]\u001b[0m \u001b[1;33m}\u001b[0m  \u001b[1;32mfor\u001b[0m \u001b[0mi\u001b[0m \u001b[1;32min\u001b[0m \u001b[0mrange\u001b[0m\u001b[1;33m(\u001b[0m\u001b[0mlen\u001b[0m\u001b[1;33m(\u001b[0m\u001b[0mdiscount\u001b[0m\u001b[1;33m)\u001b[0m\u001b[1;33m)\u001b[0m\u001b[1;33m]\u001b[0m\u001b[1;33m\u001b[0m\u001b[1;33m\u001b[0m\u001b[0m\n\u001b[0m",
      "\u001b[1;31mIndexError\u001b[0m: list index out of range"
     ]
    }
   ],
   "source": [
    "pages = [ {\"price-off\": discount[i], \"store-address\" : address_ex[i], \"quantity\": quantity[i] }  for i in range(len(discount))]"
   ]
  },
  {
   "cell_type": "code",
   "execution_count": 52,
   "metadata": {},
   "outputs": [
    {
     "name": "stdout",
     "output_type": "stream",
     "text": [
      "{'price-off': '76% off', 'store-address': '209 Lakeshore PkwyHomewood AL 35209 ', 'quantity': 'In Stock'}\n",
      "{'price-off': '76% off', 'store-address': '9248 Parkway EBirmingham AL 35206 ', 'quantity': 'In Stock'}\n",
      "{'price-off': '76% off', 'store-address': '890 Odum RdGardendale AL 35071 ', 'quantity': 'In Stock'}\n",
      "{'price-off': '76% off', 'store-address': '5335 Highway 280Birmingham AL 35242 ', 'quantity': 'In Stock'}\n",
      "{'price-off': '76% off', 'store-address': '2780 John Hawkins PkwyHoover AL 35244 ', 'quantity': 'Limited Stock'}\n",
      "{'price-off': '76% off', 'store-address': '8551 Whitfield AveLeeds AL 35094 ', 'quantity': 'In Stock'}\n",
      "{'price-off': '76% off', 'store-address': '630 Colonial Promenade PkwyAlabaster AL 35007 ', 'quantity': 'Limited Stock'}\n",
      "{'price-off': '76% off', 'store-address': '2181 Pelham PkwyPelham AL 35124 ', 'quantity': 'Out of Stock'}\n",
      "{'price-off': '76% off', 'store-address': '5919 Trussville Crossings PkwyBirmingham AL 35235 ', 'quantity': 'Out of Stock'}\n",
      "{'price-off': '53% off', 'store-address': '16077 Highway 280Chelsea AL 35043 ', 'quantity': 'Out of Stock'}\n",
      "{'price-off': '6% off', 'store-address': '2473 Hackworth RdBirmingham AL 35214 ', 'quantity': 'Out of Stock'}\n"
     ]
    }
   ],
   "source": [
    "\n",
    "for page in pages:\n",
    "    print(page)"
   ]
  },
  {
   "cell_type": "code",
   "execution_count": 53,
   "metadata": {},
   "outputs": [
    {
     "data": {
      "text/html": [
       "<div>\n",
       "<style scoped>\n",
       "    .dataframe tbody tr th:only-of-type {\n",
       "        vertical-align: middle;\n",
       "    }\n",
       "\n",
       "    .dataframe tbody tr th {\n",
       "        vertical-align: top;\n",
       "    }\n",
       "\n",
       "    .dataframe thead th {\n",
       "        text-align: right;\n",
       "    }\n",
       "</style>\n",
       "<table border=\"1\" class=\"dataframe\">\n",
       "  <thead>\n",
       "    <tr style=\"text-align: right;\">\n",
       "      <th></th>\n",
       "      <th>price-off</th>\n",
       "      <th>quantity</th>\n",
       "      <th>store-address</th>\n",
       "    </tr>\n",
       "  </thead>\n",
       "  <tbody>\n",
       "    <tr>\n",
       "      <th>0</th>\n",
       "      <td>76% off</td>\n",
       "      <td>In Stock</td>\n",
       "      <td>209 Lakeshore PkwyHomewood AL 35209</td>\n",
       "    </tr>\n",
       "    <tr>\n",
       "      <th>1</th>\n",
       "      <td>76% off</td>\n",
       "      <td>In Stock</td>\n",
       "      <td>9248 Parkway EBirmingham AL 35206</td>\n",
       "    </tr>\n",
       "    <tr>\n",
       "      <th>2</th>\n",
       "      <td>76% off</td>\n",
       "      <td>In Stock</td>\n",
       "      <td>890 Odum RdGardendale AL 35071</td>\n",
       "    </tr>\n",
       "    <tr>\n",
       "      <th>3</th>\n",
       "      <td>76% off</td>\n",
       "      <td>In Stock</td>\n",
       "      <td>5335 Highway 280Birmingham AL 35242</td>\n",
       "    </tr>\n",
       "    <tr>\n",
       "      <th>4</th>\n",
       "      <td>76% off</td>\n",
       "      <td>Limited Stock</td>\n",
       "      <td>2780 John Hawkins PkwyHoover AL 35244</td>\n",
       "    </tr>\n",
       "    <tr>\n",
       "      <th>5</th>\n",
       "      <td>76% off</td>\n",
       "      <td>In Stock</td>\n",
       "      <td>8551 Whitfield AveLeeds AL 35094</td>\n",
       "    </tr>\n",
       "    <tr>\n",
       "      <th>6</th>\n",
       "      <td>76% off</td>\n",
       "      <td>Limited Stock</td>\n",
       "      <td>630 Colonial Promenade PkwyAlabaster AL 35007</td>\n",
       "    </tr>\n",
       "    <tr>\n",
       "      <th>7</th>\n",
       "      <td>76% off</td>\n",
       "      <td>Out of Stock</td>\n",
       "      <td>2181 Pelham PkwyPelham AL 35124</td>\n",
       "    </tr>\n",
       "    <tr>\n",
       "      <th>8</th>\n",
       "      <td>76% off</td>\n",
       "      <td>Out of Stock</td>\n",
       "      <td>5919 Trussville Crossings PkwyBirmingham AL 35...</td>\n",
       "    </tr>\n",
       "    <tr>\n",
       "      <th>9</th>\n",
       "      <td>53% off</td>\n",
       "      <td>Out of Stock</td>\n",
       "      <td>16077 Highway 280Chelsea AL 35043</td>\n",
       "    </tr>\n",
       "  </tbody>\n",
       "</table>\n",
       "</div>"
      ],
      "text/plain": [
       "  price-off       quantity                                      store-address\n",
       "0   76% off       In Stock               209 Lakeshore PkwyHomewood AL 35209 \n",
       "1   76% off       In Stock                 9248 Parkway EBirmingham AL 35206 \n",
       "2   76% off       In Stock                    890 Odum RdGardendale AL 35071 \n",
       "3   76% off       In Stock               5335 Highway 280Birmingham AL 35242 \n",
       "4   76% off  Limited Stock             2780 John Hawkins PkwyHoover AL 35244 \n",
       "5   76% off       In Stock                  8551 Whitfield AveLeeds AL 35094 \n",
       "6   76% off  Limited Stock     630 Colonial Promenade PkwyAlabaster AL 35007 \n",
       "7   76% off   Out of Stock                   2181 Pelham PkwyPelham AL 35124 \n",
       "8   76% off   Out of Stock  5919 Trussville Crossings PkwyBirmingham AL 35...\n",
       "9   53% off   Out of Stock                 16077 Highway 280Chelsea AL 35043 "
      ]
     },
     "execution_count": 53,
     "metadata": {},
     "output_type": "execute_result"
    }
   ],
   "source": [
    "pages_data=pd.DataFrame.from_dict(pages)\n",
    "pages_data.head(10)"
   ]
  },
  {
   "cell_type": "code",
   "execution_count": 55,
   "metadata": {},
   "outputs": [],
   "source": [
    "pages_data.to_sql('market_scraped_data', engine, dtype={col_name: sqlalchemy.types.VARCHAR for col_name in pages_data})"
   ]
  },
  {
   "cell_type": "code",
   "execution_count": 56,
   "metadata": {},
   "outputs": [
    {
     "data": {
      "text/html": [
       "<div>\n",
       "<style scoped>\n",
       "    .dataframe tbody tr th:only-of-type {\n",
       "        vertical-align: middle;\n",
       "    }\n",
       "\n",
       "    .dataframe tbody tr th {\n",
       "        vertical-align: top;\n",
       "    }\n",
       "\n",
       "    .dataframe thead th {\n",
       "        text-align: right;\n",
       "    }\n",
       "</style>\n",
       "<table border=\"1\" class=\"dataframe\">\n",
       "  <thead>\n",
       "    <tr style=\"text-align: right;\">\n",
       "      <th></th>\n",
       "      <th>index</th>\n",
       "      <th>price-off</th>\n",
       "      <th>quantity</th>\n",
       "      <th>store-address</th>\n",
       "    </tr>\n",
       "  </thead>\n",
       "  <tbody>\n",
       "    <tr>\n",
       "      <th>0</th>\n",
       "      <td>0</td>\n",
       "      <td>76% off</td>\n",
       "      <td>In Stock</td>\n",
       "      <td>209 Lakeshore PkwyHomewood AL 35209</td>\n",
       "    </tr>\n",
       "    <tr>\n",
       "      <th>1</th>\n",
       "      <td>1</td>\n",
       "      <td>76% off</td>\n",
       "      <td>In Stock</td>\n",
       "      <td>9248 Parkway EBirmingham AL 35206</td>\n",
       "    </tr>\n",
       "    <tr>\n",
       "      <th>2</th>\n",
       "      <td>2</td>\n",
       "      <td>76% off</td>\n",
       "      <td>In Stock</td>\n",
       "      <td>890 Odum RdGardendale AL 35071</td>\n",
       "    </tr>\n",
       "    <tr>\n",
       "      <th>3</th>\n",
       "      <td>3</td>\n",
       "      <td>76% off</td>\n",
       "      <td>In Stock</td>\n",
       "      <td>5335 Highway 280Birmingham AL 35242</td>\n",
       "    </tr>\n",
       "    <tr>\n",
       "      <th>4</th>\n",
       "      <td>4</td>\n",
       "      <td>76% off</td>\n",
       "      <td>Limited Stock</td>\n",
       "      <td>2780 John Hawkins PkwyHoover AL 35244</td>\n",
       "    </tr>\n",
       "  </tbody>\n",
       "</table>\n",
       "</div>"
      ],
      "text/plain": [
       "   index price-off       quantity                           store-address\n",
       "0      0   76% off       In Stock    209 Lakeshore PkwyHomewood AL 35209 \n",
       "1      1   76% off       In Stock      9248 Parkway EBirmingham AL 35206 \n",
       "2      2   76% off       In Stock         890 Odum RdGardendale AL 35071 \n",
       "3      3   76% off       In Stock    5335 Highway 280Birmingham AL 35242 \n",
       "4      4   76% off  Limited Stock  2780 John Hawkins PkwyHoover AL 35244 "
      ]
     },
     "execution_count": 56,
     "metadata": {},
     "output_type": "execute_result"
    }
   ],
   "source": [
    "pd.read_sql_query('select * from market_scraped_data', con=engine).head()"
   ]
  },
  {
   "cell_type": "code",
   "execution_count": null,
   "metadata": {},
   "outputs": [],
   "source": [
    "# remember to delete .html files\n",
    "import os\n",
    "for item in zips:\n",
    "    s.remove('html'+ item +'.html')"
   ]
  },
  {
   "cell_type": "code",
   "execution_count": null,
   "metadata": {},
   "outputs": [],
   "source": []
  }
 ],
 "metadata": {
  "kernelspec": {
   "display_name": "Python 3",
   "language": "python",
   "name": "python3"
  },
  "language_info": {
   "codemirror_mode": {
    "name": "ipython",
    "version": 3
   },
   "file_extension": ".py",
   "mimetype": "text/x-python",
   "name": "python",
   "nbconvert_exporter": "python",
   "pygments_lexer": "ipython3",
   "version": "3.7.3"
  }
 },
 "nbformat": 4,
 "nbformat_minor": 2
}
