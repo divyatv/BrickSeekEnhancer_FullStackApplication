{
 "cells": [
  {
   "cell_type": "code",
   "execution_count": 53,
   "metadata": {},
   "outputs": [],
   "source": [
    "import pandas as pd\n",
    "from sqlalchemy import create_engine\n",
    "import sqlalchemy"
   ]
  },
  {
   "cell_type": "code",
   "execution_count": 54,
   "metadata": {},
   "outputs": [
    {
     "data": {
      "text/html": [
       "<div>\n",
       "<style scoped>\n",
       "    .dataframe tbody tr th:only-of-type {\n",
       "        vertical-align: middle;\n",
       "    }\n",
       "\n",
       "    .dataframe tbody tr th {\n",
       "        vertical-align: top;\n",
       "    }\n",
       "\n",
       "    .dataframe thead th {\n",
       "        text-align: right;\n",
       "    }\n",
       "</style>\n",
       "<table border=\"1\" class=\"dataframe\">\n",
       "  <thead>\n",
       "    <tr style=\"text-align: right;\">\n",
       "      <th></th>\n",
       "      <th>city</th>\n",
       "      <th>zip</th>\n",
       "      <th>state</th>\n",
       "      <th>population</th>\n",
       "    </tr>\n",
       "  </thead>\n",
       "  <tbody>\n",
       "    <tr>\n",
       "      <th>0</th>\n",
       "      <td>Birmingham</td>\n",
       "      <td>35203</td>\n",
       "      <td>Alabama</td>\n",
       "      <td>231,483</td>\n",
       "    </tr>\n",
       "    <tr>\n",
       "      <th>1</th>\n",
       "      <td>Huntsville</td>\n",
       "      <td>35813</td>\n",
       "      <td>Alabama</td>\n",
       "      <td>166,313</td>\n",
       "    </tr>\n",
       "    <tr>\n",
       "      <th>2</th>\n",
       "      <td>Mobile</td>\n",
       "      <td>36601</td>\n",
       "      <td>Alabama</td>\n",
       "      <td>191,544</td>\n",
       "    </tr>\n",
       "    <tr>\n",
       "      <th>3</th>\n",
       "      <td>Montgomery</td>\n",
       "      <td>36119</td>\n",
       "      <td>Alabama</td>\n",
       "      <td>200,127</td>\n",
       "    </tr>\n",
       "    <tr>\n",
       "      <th>4</th>\n",
       "      <td>Anchorage</td>\n",
       "      <td>99599</td>\n",
       "      <td>Alaska</td>\n",
       "      <td>275,043</td>\n",
       "    </tr>\n",
       "  </tbody>\n",
       "</table>\n",
       "</div>"
      ],
      "text/plain": [
       "         city    zip    state population\n",
       "0  Birmingham  35203  Alabama    231,483\n",
       "1  Huntsville  35813  Alabama    166,313\n",
       "2      Mobile  36601  Alabama    191,544\n",
       "3  Montgomery  36119  Alabama    200,127\n",
       "4   Anchorage  99599   Alaska    275,043"
      ]
     },
     "execution_count": 54,
     "metadata": {},
     "output_type": "execute_result"
    }
   ],
   "source": [
    "csv_file = \"postgres_zip_city.csv\"\n",
    "customer_data_df = pd.read_csv(csv_file)\n",
    "customer_data_df.head()"
   ]
  },
  {
   "cell_type": "code",
   "execution_count": 55,
   "metadata": {},
   "outputs": [],
   "source": [
    "customer_data_df= customer_data_df.reset_index()"
   ]
  },
  {
   "cell_type": "code",
   "execution_count": 93,
   "metadata": {},
   "outputs": [],
   "source": [
    "rds_connection_string = \"bedlgjelgbrcba:62edbf5e39edf1ea129a38a5766d7354579374a6db487103a421c76fd47d78c3@ec2-184-73-232-93.compute-1.amazonaws.com:5432/dd4i4baf4sjibo\"\n",
    "engine = create_engine(f'postgresql://{rds_connection_string}')"
   ]
  },
  {
   "cell_type": "code",
   "execution_count": 94,
   "metadata": {},
   "outputs": [
    {
     "data": {
      "text/plain": [
       "['test', 'zip_vs_coordinates', 'city_zip_data']"
      ]
     },
     "execution_count": 94,
     "metadata": {},
     "output_type": "execute_result"
    }
   ],
   "source": [
    "engine.table_names()"
   ]
  },
  {
   "cell_type": "code",
   "execution_count": 44,
   "metadata": {},
   "outputs": [],
   "source": [
    "# pd.read_sql_query('select * from city_zip_data', con=engine).head()"
   ]
  },
  {
   "cell_type": "code",
   "execution_count": 58,
   "metadata": {},
   "outputs": [
    {
     "ename": "ValueError",
     "evalue": "Table 'city_zip_data' already exists.",
     "output_type": "error",
     "traceback": [
      "\u001b[1;31m---------------------------------------------------------------------------\u001b[0m",
      "\u001b[1;31mValueError\u001b[0m                                Traceback (most recent call last)",
      "\u001b[1;32m<ipython-input-58-277f30f84d24>\u001b[0m in \u001b[0;36m<module>\u001b[1;34m\u001b[0m\n\u001b[1;32m----> 1\u001b[1;33m \u001b[0mcustomer_data_df\u001b[0m\u001b[1;33m.\u001b[0m\u001b[0mto_sql\u001b[0m\u001b[1;33m(\u001b[0m\u001b[1;34m'city_zip_data'\u001b[0m\u001b[1;33m,\u001b[0m \u001b[0mengine\u001b[0m\u001b[1;33m,\u001b[0m \u001b[0mdtype\u001b[0m\u001b[1;33m=\u001b[0m\u001b[1;33m{\u001b[0m\u001b[0mcol_name\u001b[0m\u001b[1;33m:\u001b[0m \u001b[0msqlalchemy\u001b[0m\u001b[1;33m.\u001b[0m\u001b[0mtypes\u001b[0m\u001b[1;33m.\u001b[0m\u001b[0mVARCHAR\u001b[0m \u001b[1;32mfor\u001b[0m \u001b[0mcol_name\u001b[0m \u001b[1;32min\u001b[0m \u001b[0mcustomer_data_df\u001b[0m\u001b[1;33m}\u001b[0m\u001b[1;33m)\u001b[0m\u001b[1;33m\u001b[0m\u001b[1;33m\u001b[0m\u001b[0m\n\u001b[0m",
      "\u001b[1;32m~\\Anaconda3\\envs\\pythonData\\lib\\site-packages\\pandas\\core\\generic.py\u001b[0m in \u001b[0;36mto_sql\u001b[1;34m(self, name, con, schema, if_exists, index, index_label, chunksize, dtype, method)\u001b[0m\n\u001b[0;32m   2529\u001b[0m         sql.to_sql(self, name, con, schema=schema, if_exists=if_exists,\n\u001b[0;32m   2530\u001b[0m                    \u001b[0mindex\u001b[0m\u001b[1;33m=\u001b[0m\u001b[0mindex\u001b[0m\u001b[1;33m,\u001b[0m \u001b[0mindex_label\u001b[0m\u001b[1;33m=\u001b[0m\u001b[0mindex_label\u001b[0m\u001b[1;33m,\u001b[0m \u001b[0mchunksize\u001b[0m\u001b[1;33m=\u001b[0m\u001b[0mchunksize\u001b[0m\u001b[1;33m,\u001b[0m\u001b[1;33m\u001b[0m\u001b[1;33m\u001b[0m\u001b[0m\n\u001b[1;32m-> 2531\u001b[1;33m                    dtype=dtype, method=method)\n\u001b[0m\u001b[0;32m   2532\u001b[0m \u001b[1;33m\u001b[0m\u001b[0m\n\u001b[0;32m   2533\u001b[0m     def to_pickle(self, path, compression='infer',\n",
      "\u001b[1;32m~\\Anaconda3\\envs\\pythonData\\lib\\site-packages\\pandas\\io\\sql.py\u001b[0m in \u001b[0;36mto_sql\u001b[1;34m(frame, name, con, schema, if_exists, index, index_label, chunksize, dtype, method)\u001b[0m\n\u001b[0;32m    458\u001b[0m     pandas_sql.to_sql(frame, name, if_exists=if_exists, index=index,\n\u001b[0;32m    459\u001b[0m                       \u001b[0mindex_label\u001b[0m\u001b[1;33m=\u001b[0m\u001b[0mindex_label\u001b[0m\u001b[1;33m,\u001b[0m \u001b[0mschema\u001b[0m\u001b[1;33m=\u001b[0m\u001b[0mschema\u001b[0m\u001b[1;33m,\u001b[0m\u001b[1;33m\u001b[0m\u001b[1;33m\u001b[0m\u001b[0m\n\u001b[1;32m--> 460\u001b[1;33m                       chunksize=chunksize, dtype=dtype, method=method)\n\u001b[0m\u001b[0;32m    461\u001b[0m \u001b[1;33m\u001b[0m\u001b[0m\n\u001b[0;32m    462\u001b[0m \u001b[1;33m\u001b[0m\u001b[0m\n",
      "\u001b[1;32m~\\Anaconda3\\envs\\pythonData\\lib\\site-packages\\pandas\\io\\sql.py\u001b[0m in \u001b[0;36mto_sql\u001b[1;34m(self, frame, name, if_exists, index, index_label, schema, chunksize, dtype, method)\u001b[0m\n\u001b[0;32m   1171\u001b[0m                          \u001b[0mif_exists\u001b[0m\u001b[1;33m=\u001b[0m\u001b[0mif_exists\u001b[0m\u001b[1;33m,\u001b[0m \u001b[0mindex_label\u001b[0m\u001b[1;33m=\u001b[0m\u001b[0mindex_label\u001b[0m\u001b[1;33m,\u001b[0m\u001b[1;33m\u001b[0m\u001b[1;33m\u001b[0m\u001b[0m\n\u001b[0;32m   1172\u001b[0m                          schema=schema, dtype=dtype)\n\u001b[1;32m-> 1173\u001b[1;33m         \u001b[0mtable\u001b[0m\u001b[1;33m.\u001b[0m\u001b[0mcreate\u001b[0m\u001b[1;33m(\u001b[0m\u001b[1;33m)\u001b[0m\u001b[1;33m\u001b[0m\u001b[1;33m\u001b[0m\u001b[0m\n\u001b[0m\u001b[0;32m   1174\u001b[0m         \u001b[0mtable\u001b[0m\u001b[1;33m.\u001b[0m\u001b[0minsert\u001b[0m\u001b[1;33m(\u001b[0m\u001b[0mchunksize\u001b[0m\u001b[1;33m,\u001b[0m \u001b[0mmethod\u001b[0m\u001b[1;33m=\u001b[0m\u001b[0mmethod\u001b[0m\u001b[1;33m)\u001b[0m\u001b[1;33m\u001b[0m\u001b[1;33m\u001b[0m\u001b[0m\n\u001b[0;32m   1175\u001b[0m         \u001b[1;32mif\u001b[0m \u001b[1;33m(\u001b[0m\u001b[1;32mnot\u001b[0m \u001b[0mname\u001b[0m\u001b[1;33m.\u001b[0m\u001b[0misdigit\u001b[0m\u001b[1;33m(\u001b[0m\u001b[1;33m)\u001b[0m \u001b[1;32mand\u001b[0m \u001b[1;32mnot\u001b[0m \u001b[0mname\u001b[0m\u001b[1;33m.\u001b[0m\u001b[0mislower\u001b[0m\u001b[1;33m(\u001b[0m\u001b[1;33m)\u001b[0m\u001b[1;33m)\u001b[0m\u001b[1;33m:\u001b[0m\u001b[1;33m\u001b[0m\u001b[1;33m\u001b[0m\u001b[0m\n",
      "\u001b[1;32m~\\Anaconda3\\envs\\pythonData\\lib\\site-packages\\pandas\\io\\sql.py\u001b[0m in \u001b[0;36mcreate\u001b[1;34m(self)\u001b[0m\n\u001b[0;32m    573\u001b[0m             \u001b[1;32mif\u001b[0m \u001b[0mself\u001b[0m\u001b[1;33m.\u001b[0m\u001b[0mif_exists\u001b[0m \u001b[1;33m==\u001b[0m \u001b[1;34m'fail'\u001b[0m\u001b[1;33m:\u001b[0m\u001b[1;33m\u001b[0m\u001b[1;33m\u001b[0m\u001b[0m\n\u001b[0;32m    574\u001b[0m                 raise ValueError(\n\u001b[1;32m--> 575\u001b[1;33m                     \"Table '{name}' already exists.\".format(name=self.name))\n\u001b[0m\u001b[0;32m    576\u001b[0m             \u001b[1;32melif\u001b[0m \u001b[0mself\u001b[0m\u001b[1;33m.\u001b[0m\u001b[0mif_exists\u001b[0m \u001b[1;33m==\u001b[0m \u001b[1;34m'replace'\u001b[0m\u001b[1;33m:\u001b[0m\u001b[1;33m\u001b[0m\u001b[1;33m\u001b[0m\u001b[0m\n\u001b[0;32m    577\u001b[0m                 \u001b[0mself\u001b[0m\u001b[1;33m.\u001b[0m\u001b[0mpd_sql\u001b[0m\u001b[1;33m.\u001b[0m\u001b[0mdrop_table\u001b[0m\u001b[1;33m(\u001b[0m\u001b[0mself\u001b[0m\u001b[1;33m.\u001b[0m\u001b[0mname\u001b[0m\u001b[1;33m,\u001b[0m \u001b[0mself\u001b[0m\u001b[1;33m.\u001b[0m\u001b[0mschema\u001b[0m\u001b[1;33m)\u001b[0m\u001b[1;33m\u001b[0m\u001b[1;33m\u001b[0m\u001b[0m\n",
      "\u001b[1;31mValueError\u001b[0m: Table 'city_zip_data' already exists."
     ]
    }
   ],
   "source": [
    "customer_data_df.to_sql('city_zip_data', engine, dtype={col_name: sqlalchemy.types.VARCHAR for col_name in customer_data_df})"
   ]
  },
  {
   "cell_type": "code",
   "execution_count": 89,
   "metadata": {},
   "outputs": [],
   "source": [
    "zip=engine.execute('select zip from city_zip_data')"
   ]
  },
  {
   "cell_type": "code",
   "execution_count": 90,
   "metadata": {},
   "outputs": [
    {
     "name": "stdout",
     "output_type": "stream",
     "text": [
      "('35203',)\n"
     ]
    }
   ],
   "source": [
    "print(list(zip)[0])"
   ]
  },
  {
   "cell_type": "code",
   "execution_count": 95,
   "metadata": {},
   "outputs": [],
   "source": [
    "import sqlalchemy\n",
    "\n",
    "from sqlalchemy import Column, Integer, String, Float\n",
    "\n",
    "from sqlalchemy.orm import Session\n",
    "\n",
    "from sqlalchemy.ext.automap import automap_base\n",
    "\n",
    "from sqlalchemy import create_engine, inspect"
   ]
  },
  {
   "cell_type": "code",
   "execution_count": 97,
   "metadata": {},
   "outputs": [
    {
     "data": {
      "text/plain": [
       "['test', 'zip_vs_coordinates', 'city_zip_data']"
      ]
     },
     "execution_count": 97,
     "metadata": {},
     "output_type": "execute_result"
    }
   ],
   "source": [
    "inspector.get_table_names()"
   ]
  },
  {
   "cell_type": "code",
   "execution_count": 135,
   "metadata": {},
   "outputs": [
    {
     "ename": "AttributeError",
     "evalue": "'dict' object has no attribute 'zip'",
     "output_type": "error",
     "traceback": [
      "\u001b[1;31m---------------------------------------------------------------------------\u001b[0m",
      "\u001b[1;31mAttributeError\u001b[0m                            Traceback (most recent call last)",
      "\u001b[1;32m<ipython-input-135-289459963f1e>\u001b[0m in \u001b[0;36m<module>\u001b[1;34m\u001b[0m\n\u001b[0;32m      1\u001b[0m \u001b[0mcolumns\u001b[0m \u001b[1;33m=\u001b[0m \u001b[0minspector\u001b[0m\u001b[1;33m.\u001b[0m\u001b[0mget_columns\u001b[0m\u001b[1;33m(\u001b[0m\u001b[1;34m'city_zip_data'\u001b[0m\u001b[1;33m)\u001b[0m\u001b[1;33m\u001b[0m\u001b[1;33m\u001b[0m\u001b[0m\n\u001b[0;32m      2\u001b[0m \u001b[1;32mfor\u001b[0m \u001b[0mcolumn\u001b[0m \u001b[1;32min\u001b[0m \u001b[0mcolumns\u001b[0m\u001b[1;33m:\u001b[0m\u001b[1;33m\u001b[0m\u001b[1;33m\u001b[0m\u001b[0m\n\u001b[1;32m----> 3\u001b[1;33m     \u001b[0mprint\u001b[0m\u001b[1;33m(\u001b[0m\u001b[0mcolumn\u001b[0m\u001b[1;33m.\u001b[0m\u001b[0mzip\u001b[0m\u001b[1;33m)\u001b[0m\u001b[1;33m\u001b[0m\u001b[1;33m\u001b[0m\u001b[0m\n\u001b[0m",
      "\u001b[1;31mAttributeError\u001b[0m: 'dict' object has no attribute 'zip'"
     ]
    }
   ],
   "source": [
    "columns = inspector.get_columns('city_zip_data')\n",
    "for column in columns:\n",
    "    print(column.zip)"
   ]
  },
  {
   "cell_type": "code",
   "execution_count": 138,
   "metadata": {},
   "outputs": [
    {
     "data": {
      "text/plain": [
       "list"
      ]
     },
     "execution_count": 138,
     "metadata": {},
     "output_type": "execute_result"
    }
   ],
   "source": [
    "zip = engine.execute('SELECT zip FROM city_zip_data LIMIT 10').fetchall()\n"
   ]
  },
  {
   "cell_type": "code",
   "execution_count": 144,
   "metadata": {},
   "outputs": [
    {
     "name": "stdout",
     "output_type": "stream",
     "text": [
      "35203\n",
      "35813\n",
      "36601\n",
      "36119\n",
      "99599\n",
      "85225\n",
      "86001\n",
      "85296\n",
      "85302\n",
      "85201\n"
     ]
    }
   ],
   "source": [
    "import re\n",
    "for item in zip:\n",
    " print (re.sub(\"\\'|\\,|\\(|\\)\", \"\", str(item)))\n",
    " "
   ]
  },
  {
   "cell_type": "code",
   "execution_count": 141,
   "metadata": {
    "scrolled": true
   },
   "outputs": [
    {
     "name": "stdout",
     "output_type": "stream",
     "text": [
      "35203\n"
     ]
    }
   ],
   "source": [
    "import re\n",
    "print (re.sub(\"\\'|\\,|\\(|\\)\", \"\", \"('35203',)\"))\n"
   ]
  },
  {
   "cell_type": "code",
   "execution_count": 153,
   "metadata": {},
   "outputs": [],
   "source": [
    "# import os\n",
    "# sku=625412161\n",
    "# zip=[35203,35813,36601,36119,99599,85225,86001,85296,85302,85201]\n",
    "\n",
    "\n",
    "# #cmd='curl --data \"sku=${sku}&zip=${item}\" https://brickseek.com/walmart-inventory-checker >> C:\\Users\\divya\\Desktop\\Personal-DataViz\\Homework\\DatBrick_Project2output.html'\n",
    "\n",
    "# for item in zip:\n",
    "#  cmd= 'curl --data \"sku=625412161&zip=item\" https://brickseek.com/walmart-inventory-checker >> html1005.html'\n",
    "#  os.system(cmd)"
   ]
  },
  {
   "cell_type": "code",
   "execution_count": 167,
   "metadata": {},
   "outputs": [
    {
     "name": "stdout",
     "output_type": "stream",
     "text": [
      "curl --data \"sku=625412161&zip=35203\" https://brickseek.com/walmart-inventory-checker -o html1032.html\n"
     ]
    }
   ],
   "source": [
    "import os\n",
    "command= 'curl --data ' + '\"sku=625412161&zip=' + str(zip[0]) + '\" https://brickseek.com/walmart-inventory-checker -o html1032.html'\n",
    "cmd= 'curl --data \"sku=625412161&zip=35813\" https://brickseek.com/walmart-inventory-checker -o html1024.html'\n",
    "output=os.system(command)\n",
    "print(command)"
   ]
  },
  {
   "cell_type": "code",
   "execution_count": null,
   "metadata": {},
   "outputs": [],
   "source": [
    " ## Works ##curl --data \"sku=625412161&zip=27713\" https://brickseek.com/walmart-inventory-checker >> html.html\n"
   ]
  },
  {
   "cell_type": "code",
   "execution_count": 170,
   "metadata": {},
   "outputs": [],
   "source": [
    "import os\n",
    "\n",
    "for item in zip:\n",
    " command= 'curl --data ' + '\"sku=625412161&zip=' + str(item) + '\" https://brickseek.com/walmart-inventory-checker -o html'+str(item)+'.html'\n",
    " output=os.system(command)\n",
    " #print(command)"
   ]
  },
  {
   "cell_type": "code",
   "execution_count": 173,
   "metadata": {},
   "outputs": [],
   "source": [
    "from bs4 import BeautifulSoup as bs\n",
    "import os\n",
    "\n",
    "\n",
    "\n"
   ]
  },
  {
   "cell_type": "code",
   "execution_count": 176,
   "metadata": {},
   "outputs": [],
   "source": [
    "from __future__ import division, unicode_literals \n",
    "import codecs\n",
    "from bs4 import BeautifulSoup\n",
    "import os\n",
    "\n",
    "filepath = os.path.join(\"html85225.html\")\n",
    "with open(filepath, encoding='utf-8') as file:\n",
    "    html = file.read()"
   ]
  },
  {
   "cell_type": "code",
   "execution_count": 177,
   "metadata": {},
   "outputs": [],
   "source": [
    "soup = BeautifulSoup(html, 'html.parser')"
   ]
  },
  {
   "cell_type": "code",
   "execution_count": 207,
   "metadata": {},
   "outputs": [
    {
     "name": "stdout",
     "output_type": "stream",
     "text": [
      "<div class=\"table inventory-checker-table inventory-checker-table--store-availability-price inventory-checker-table--columns-3\">\n",
      "<div class=\"table__header\">\n",
      "<div class=\"table__row\">\n",
      "<div class=\"table__cell table__cell--align-left inventory-checker-table__store\">\n",
      "<div class=\"table__cell-content\">\n",
      "Store </div>\n",
      "</div>\n",
      "<div class=\"table__cell inventory-checker-table__availability\">\n",
      "<div class=\"table__cell-content\">\n",
      "Availability </div>\n",
      "</div>\n",
      "<div class=\"table__cell inventory-checker-table__price\">\n",
      "<div class=\"table__cell-content\">\n",
      "Price </div>\n",
      "</div>\n",
      "</div>\n",
      "</div>\n",
      "<div class=\"table__body\">\n",
      "<div class=\"table__row\">\n",
      "<div class=\"table__cell table__cell--align-left inventory-checker-table__store\">\n",
      "<div class=\"table__cell-content\">\n",
      "<strong class=\"address-location-name\">\n",
      "Walmart Supercenter #2671 </strong>\n",
      "<address class=\"address\">\n",
      "1175 S Arizona Ave<br/>Chandler AZ 85286 <div class=\"address__below\">\n",
      "(2 Miles Away) </div>\n",
      "<div class=\"address__links\">\n",
      "<a class=\"address__link\" href=\"https://maps.google.com/maps?q=1175+S+Arizona+Ave+Chandler+AZ+85286\" rel=\"noopener noreferrer\" target=\"_blank\">Google Maps</a>\n",
      "<span class=\"address__link-separator\"></span>\n",
      "<a class=\"address__link\" href=\"http://maps.apple.com/?address=1175+S+Arizona+Ave+Chandler+AZ+85286\">Apple Maps</a>\n",
      "</div>\n",
      "</address>\n",
      "</div>\n",
      "</div>\n",
      "<div class=\"table__cell inventory-checker-table__availability\">\n",
      "<div class=\"table__cell-content\">\n",
      "<div class=\"availability-status-indicator availability-status-indicator--stock-2 availability-status-indicator--style-label\" data-store-type=\"3\"><span class=\"availability-status-indicator__text\">In Stock</span></div> <span class=\"table__cell-quantity\">Quantity: 3</span><br>\n",
      "</br></div>\n",
      "</div>\n",
      "<div class=\"table__cell inventory-checker-table__price\">\n",
      "<div class=\"table__cell-content\">\n",
      "<div class=\"table__cell-price table__cell-price--featured\">\n",
      "<span class=\"price-formatted price-formatted--style-display\"><span class=\"price-formatted__currency\">$</span><span class=\"price-formatted__dollars\">30</span><span class=\"price-formatted__decimal\">.</span><span class=\"price-formatted__cents\">00</span></span> <span class=\"table__cell-price-discount\">76% off</span>\n",
      "</div>\n",
      "</div>\n",
      "</div>\n",
      "</div>\n",
      "<div class=\"table__row\">\n",
      "<div class=\"table__cell table__cell--align-left inventory-checker-table__store\">\n",
      "<div class=\"table__cell-content\">\n",
      "<strong class=\"address-location-name\">\n",
      "Walmart Supercenter #2768 </strong>\n",
      "<address class=\"address\">\n",
      "1955 S Stapley Dr<br/>Mesa AZ 85204 <div class=\"address__below\">\n",
      "(4.7 Miles Away) </div>\n",
      "<div class=\"address__links\">\n",
      "<a class=\"address__link\" href=\"https://maps.google.com/maps?q=1955+S+Stapley+Dr+Mesa+AZ+85204\" rel=\"noopener noreferrer\" target=\"_blank\">Google Maps</a>\n",
      "<span class=\"address__link-separator\"></span>\n",
      "<a class=\"address__link\" href=\"http://maps.apple.com/?address=1955+S+Stapley+Dr+Mesa+AZ+85204\">Apple Maps</a>\n",
      "</div>\n",
      "</address>\n",
      "</div>\n",
      "</div>\n",
      "<div class=\"table__cell inventory-checker-table__availability\">\n",
      "<div class=\"table__cell-content\">\n",
      "<div class=\"availability-status-indicator availability-status-indicator--stock-2 availability-status-indicator--style-label\" data-store-type=\"3\"><span class=\"availability-status-indicator__text\">In Stock</span></div> <span class=\"table__cell-quantity\">Quantity: 3</span><br>\n",
      "</br></div>\n",
      "</div>\n",
      "<div class=\"table__cell inventory-checker-table__price\">\n",
      "<div class=\"table__cell-content\">\n",
      "<div class=\"table__cell-price table__cell-price--featured\">\n",
      "<span class=\"price-formatted price-formatted--style-display\"><span class=\"price-formatted__currency\">$</span><span class=\"price-formatted__dollars\">30</span><span class=\"price-formatted__decimal\">.</span><span class=\"price-formatted__cents\">00</span></span> <span class=\"table__cell-price-discount\">76% off</span>\n",
      "</div>\n",
      "</div>\n",
      "</div>\n",
      "</div>\n",
      "<div class=\"table__row\">\n",
      "<div class=\"table__cell table__cell--align-left inventory-checker-table__store\">\n",
      "<div class=\"table__cell-content\">\n",
      "<strong class=\"address-location-name\">\n",
      "Walmart Supercenter #5768 </strong>\n",
      "<address class=\"address\">\n",
      "800 E Southern Ave<br/>Tempe AZ 85282 <div class=\"address__below\">\n",
      "(7.7 Miles Away) </div>\n",
      "<div class=\"address__links\">\n",
      "<a class=\"address__link\" href=\"https://maps.google.com/maps?q=800+E+Southern+Ave+Tempe+AZ+85282\" rel=\"noopener noreferrer\" target=\"_blank\">Google Maps</a>\n",
      "<span class=\"address__link-separator\"></span>\n",
      "<a class=\"address__link\" href=\"http://maps.apple.com/?address=800+E+Southern+Ave+Tempe+AZ+85282\">Apple Maps</a>\n",
      "</div>\n",
      "</address>\n",
      "</div>\n",
      "</div>\n",
      "<div class=\"table__cell inventory-checker-table__availability\">\n",
      "<div class=\"table__cell-content\">\n",
      "<div class=\"availability-status-indicator availability-status-indicator--stock-2 availability-status-indicator--style-label\" data-store-type=\"3\"><span class=\"availability-status-indicator__text\">In Stock</span></div> <span class=\"table__cell-quantity\">Quantity: 3</span><br>\n",
      "</br></div>\n",
      "</div>\n",
      "<div class=\"table__cell inventory-checker-table__price\">\n",
      "<div class=\"table__cell-content\">\n",
      "<div class=\"table__cell-price table__cell-price--featured\">\n",
      "<span class=\"price-formatted price-formatted--style-display\"><span class=\"price-formatted__currency\">$</span><span class=\"price-formatted__dollars\">30</span><span class=\"price-formatted__decimal\">.</span><span class=\"price-formatted__cents\">00</span></span> <span class=\"table__cell-price-discount\">76% off</span>\n",
      "</div>\n",
      "</div>\n",
      "</div>\n",
      "</div>\n",
      "<div class=\"ad ad--location-main_content_1\" data-ad-slot=\"brickseek_728x90_300x250_320x50_inlist_1\">\n",
      "<div class=\"ad__slot\">\n",
      "<div align=\"center\" id=\"brickseek_728x90_300x250_320x50_inlist_1\">\n",
      "<script data-cfasync=\"false\" type=\"text/javascript\">\n",
      "    freestar.queue.push(function () { googletag.display('brickseek_728x90_300x250_320x50_inlist_1'); });\n",
      "</script>\n",
      "</div> </div>\n",
      "</div>\n",
      "<div class=\"table__row\">\n",
      "<div class=\"table__cell table__cell--align-left inventory-checker-table__store\">\n",
      "<div class=\"table__cell-content\">\n",
      "<strong class=\"address-location-name\">\n",
      "Walmart Supercenter #5428 </strong>\n",
      "<address class=\"address\">\n",
      "1710 S Greenfield Rd<br/>Mesa AZ 85206 <div class=\"address__below\">\n",
      "(7 Miles Away) </div>\n",
      "<div class=\"address__links\">\n",
      "<a class=\"address__link\" href=\"https://maps.google.com/maps?q=1710+S+Greenfield+Rd+Mesa+AZ+85206\" rel=\"noopener noreferrer\" target=\"_blank\">Google Maps</a>\n",
      "<span class=\"address__link-separator\"></span>\n",
      "<a class=\"address__link\" href=\"http://maps.apple.com/?address=1710+S+Greenfield+Rd+Mesa+AZ+85206\">Apple Maps</a>\n",
      "</div>\n",
      "</address>\n",
      "</div>\n",
      "</div>\n",
      "<div class=\"table__cell inventory-checker-table__availability\">\n",
      "<div class=\"table__cell-content\">\n",
      "<div class=\"availability-status-indicator availability-status-indicator--stock-2 availability-status-indicator--style-label\" data-store-type=\"3\"><span class=\"availability-status-indicator__text\">In Stock</span></div> <span class=\"table__cell-quantity\">Quantity: 2</span><br>\n",
      "</br></div>\n",
      "</div>\n",
      "<div class=\"table__cell inventory-checker-table__price\">\n",
      "<div class=\"table__cell-content\">\n",
      "<div class=\"table__cell-price table__cell-price--featured\">\n",
      "<span class=\"price-formatted price-formatted--style-display\"><span class=\"price-formatted__currency\">$</span><span class=\"price-formatted__dollars\">30</span><span class=\"price-formatted__decimal\">.</span><span class=\"price-formatted__cents\">00</span></span> <span class=\"table__cell-price-discount\">76% off</span>\n",
      "</div>\n",
      "</div>\n",
      "</div>\n",
      "</div>\n",
      "<div class=\"table__row\">\n",
      "<div class=\"table__cell table__cell--align-left inventory-checker-table__store\">\n",
      "<div class=\"table__cell-content\">\n",
      "<strong class=\"address-location-name\">\n",
      "Walmart Supercenter #1646 </strong>\n",
      "<address class=\"address\">\n",
      "6131 E Southern Ave<br/>Mesa AZ 85206 <div class=\"address__below\">\n",
      "(9.3 Miles Away) </div>\n",
      "<div class=\"address__links\">\n",
      "<a class=\"address__link\" href=\"https://maps.google.com/maps?q=6131+E+Southern+Ave+Mesa+AZ+85206\" rel=\"noopener noreferrer\" target=\"_blank\">Google Maps</a>\n",
      "<span class=\"address__link-separator\"></span>\n",
      "<a class=\"address__link\" href=\"http://maps.apple.com/?address=6131+E+Southern+Ave+Mesa+AZ+85206\">Apple Maps</a>\n",
      "</div>\n",
      "</address>\n",
      "</div>\n",
      "</div>\n",
      "<div class=\"table__cell inventory-checker-table__availability\">\n",
      "<div class=\"table__cell-content\">\n",
      "<div class=\"availability-status-indicator availability-status-indicator--stock-2 availability-status-indicator--style-label\" data-store-type=\"3\"><span class=\"availability-status-indicator__text\">In Stock</span></div> <span class=\"table__cell-quantity\">Quantity: 3</span><br>\n",
      "</br></div>\n",
      "</div>\n",
      "<div class=\"table__cell inventory-checker-table__price\">\n",
      "<div class=\"table__cell-content\">\n",
      "<div class=\"table__cell-price table__cell-price--featured\">\n",
      "<span class=\"price-formatted price-formatted--style-display\"><span class=\"price-formatted__currency\">$</span><span class=\"price-formatted__dollars\">30</span><span class=\"price-formatted__decimal\">.</span><span class=\"price-formatted__cents\">00</span></span> <span class=\"table__cell-price-discount\">76% off</span>\n",
      "</div>\n",
      "</div>\n",
      "</div>\n",
      "</div>\n",
      "<div class=\"table__row\">\n",
      "<div class=\"table__cell table__cell--align-left inventory-checker-table__store\">\n",
      "<div class=\"table__cell-content\">\n",
      "<strong class=\"address-location-name\">\n",
      "Walmart Supercenter #2482 </strong>\n",
      "<address class=\"address\">\n",
      "857 N Dobson Rd<br/>Mesa AZ 85201 <div class=\"address__below\">\n",
      "(8.2 Miles Away) </div>\n",
      "<div class=\"address__links\">\n",
      "<a class=\"address__link\" href=\"https://maps.google.com/maps?q=857+N+Dobson+Rd+Mesa+AZ+85201\" rel=\"noopener noreferrer\" target=\"_blank\">Google Maps</a>\n",
      "<span class=\"address__link-separator\"></span>\n",
      "<a class=\"address__link\" href=\"http://maps.apple.com/?address=857+N+Dobson+Rd+Mesa+AZ+85201\">Apple Maps</a>\n",
      "</div>\n",
      "</address>\n",
      "</div>\n",
      "</div>\n",
      "<div class=\"table__cell inventory-checker-table__availability\">\n",
      "<div class=\"table__cell-content\">\n",
      "<div class=\"availability-status-indicator availability-status-indicator--stock-1 availability-status-indicator--style-label\" data-store-type=\"3\"><span class=\"availability-status-indicator__text\">Limited Stock</span></div> </div>\n",
      "</div>\n",
      "<div class=\"table__cell inventory-checker-table__price\">\n",
      "<div class=\"table__cell-content\">\n",
      "<div class=\"table__cell-price table__cell-price--featured\">\n",
      "<span class=\"price-formatted price-formatted--style-display\"><span class=\"price-formatted__currency\">$</span><span class=\"price-formatted__dollars\">30</span><span class=\"price-formatted__decimal\">.</span><span class=\"price-formatted__cents\">00</span></span> <span class=\"table__cell-price-discount\">76% off</span>\n",
      "</div>\n",
      "</div>\n",
      "</div>\n",
      "</div>\n",
      "<div class=\"table__row\">\n",
      "<div class=\"table__cell table__cell--align-left inventory-checker-table__store\">\n",
      "<div class=\"table__cell-content\">\n",
      "<strong class=\"address-location-name\">\n",
      "Walmart Supercenter #2767 </strong>\n",
      "<address class=\"address\">\n",
      "4505 E Mckellips Rd<br/>Mesa AZ 85215 <div class=\"address__below\">\n",
      "(10.8 Miles Away) </div>\n",
      "<div class=\"address__links\">\n",
      "<a class=\"address__link\" href=\"https://maps.google.com/maps?q=4505+E+Mckellips+Rd+Mesa+AZ+85215\" rel=\"noopener noreferrer\" target=\"_blank\">Google Maps</a>\n",
      "<span class=\"address__link-separator\"></span>\n",
      "<a class=\"address__link\" href=\"http://maps.apple.com/?address=4505+E+Mckellips+Rd+Mesa+AZ+85215\">Apple Maps</a>\n",
      "</div>\n",
      "</address>\n",
      "</div>\n",
      "</div>\n",
      "<div class=\"table__cell inventory-checker-table__availability\">\n",
      "<div class=\"table__cell-content\">\n",
      "<div class=\"availability-status-indicator availability-status-indicator--stock-1 availability-status-indicator--style-label\" data-store-type=\"3\"><span class=\"availability-status-indicator__text\">Limited Stock</span></div> </div>\n",
      "</div>\n",
      "<div class=\"table__cell inventory-checker-table__price\">\n",
      "<div class=\"table__cell-content\">\n",
      "<div class=\"table__cell-price table__cell-price--featured\">\n",
      "<span class=\"price-formatted price-formatted--style-display\"><span class=\"price-formatted__currency\">$</span><span class=\"price-formatted__dollars\">30</span><span class=\"price-formatted__decimal\">.</span><span class=\"price-formatted__cents\">00</span></span> <span class=\"table__cell-price-discount\">76% off</span>\n",
      "</div>\n",
      "</div>\n",
      "</div>\n",
      "</div>\n",
      "<div class=\"ad ad--location-main_content_2\" data-ad-slot=\"brickseek_728x90_300x250_320x50_inlist_2\">\n",
      "<div class=\"ad__slot\">\n",
      "<div align=\"center\" id=\"brickseek_728x90_300x250_320x50_inlist_2\">\n",
      "<script data-cfasync=\"false\" type=\"text/javascript\">\n",
      "    freestar.queue.push(function () { googletag.display('brickseek_728x90_300x250_320x50_inlist_2'); });\n",
      "</script>\n",
      "</div> </div>\n",
      "</div>\n",
      "<div class=\"table__row\">\n",
      "<div class=\"table__cell table__cell--align-left inventory-checker-table__store\">\n",
      "<div class=\"table__cell-content\">\n",
      "<strong class=\"address-location-name\">\n",
      "Walmart Supercenter #3360 </strong>\n",
      "<address class=\"address\">\n",
      "2750 E Germann Rd<br/>Chandler AZ 85286 <div class=\"address__below\">\n",
      "(3.3 Miles Away) </div>\n",
      "<div class=\"address__links\">\n",
      "<a class=\"address__link\" href=\"https://maps.google.com/maps?q=2750+E+Germann+Rd+Chandler+AZ+85286\" rel=\"noopener noreferrer\" target=\"_blank\">Google Maps</a>\n",
      "<span class=\"address__link-separator\"></span>\n",
      "<a class=\"address__link\" href=\"http://maps.apple.com/?address=2750+E+Germann+Rd+Chandler+AZ+85286\">Apple Maps</a>\n",
      "</div>\n",
      "</address>\n",
      "</div>\n",
      "</div>\n",
      "<div class=\"table__cell inventory-checker-table__availability\">\n",
      "<div class=\"table__cell-content\">\n",
      "<div class=\"availability-status-indicator availability-status-indicator--stock-0 availability-status-indicator--style-label\" data-store-type=\"3\"><span class=\"availability-status-indicator__text\">Out of Stock</span></div> </div>\n",
      "</div>\n",
      "<div class=\"table__cell inventory-checker-table__price\">\n",
      "<div class=\"table__cell-content\">\n",
      "<div class=\"table__cell-price\">\n",
      "<span class=\"price-formatted price-formatted--style-display\"><span class=\"price-formatted__currency\">$</span><span class=\"price-formatted__dollars\">89</span><span class=\"price-formatted__decimal\">.</span><span class=\"price-formatted__cents\">00</span></span> <span class=\"table__cell-price-discount\">29% off</span>\n",
      "</div>\n",
      "</div>\n",
      "</div>\n",
      "</div>\n",
      "<div class=\"table__row\">\n",
      "<div class=\"table__cell table__cell--align-left inventory-checker-table__store\">\n",
      "<div class=\"table__cell-content\">\n",
      "<strong class=\"address-location-name\">\n",
      "Walmart Supercenter #3861 </strong>\n",
      "<address class=\"address\">\n",
      "5290 S Power Rd<br/>Gilbert AZ 85295 <div class=\"address__below\">\n",
      "(8.3 Miles Away) </div>\n",
      "<div class=\"address__links\">\n",
      "<a class=\"address__link\" href=\"https://maps.google.com/maps?q=5290+S+Power+Rd+Gilbert+AZ+85295\" rel=\"noopener noreferrer\" target=\"_blank\">Google Maps</a>\n",
      "<span class=\"address__link-separator\"></span>\n",
      "<a class=\"address__link\" href=\"http://maps.apple.com/?address=5290+S+Power+Rd+Gilbert+AZ+85295\">Apple Maps</a>\n",
      "</div>\n",
      "</address>\n",
      "</div>\n",
      "</div>\n",
      "<div class=\"table__cell inventory-checker-table__availability\">\n",
      "<div class=\"table__cell-content\">\n",
      "<div class=\"availability-status-indicator availability-status-indicator--stock-0 availability-status-indicator--style-label\" data-store-type=\"3\"><span class=\"availability-status-indicator__text\">Out of Stock</span></div> </div>\n",
      "</div>\n",
      "<div class=\"table__cell inventory-checker-table__price\">\n",
      "<div class=\"table__cell-content\">\n",
      "<div class=\"table__cell-price\">\n",
      "<span class=\"price-formatted price-formatted--style-display\"><span class=\"price-formatted__currency\">$</span><span class=\"price-formatted__dollars\">89</span><span class=\"price-formatted__decimal\">.</span><span class=\"price-formatted__cents\">00</span></span> <span class=\"table__cell-price-discount\">29% off</span>\n",
      "</div>\n",
      "</div>\n",
      "</div>\n",
      "</div>\n",
      "<div class=\"table__row\">\n",
      "<div class=\"table__cell table__cell--align-left inventory-checker-table__store\">\n",
      "<div class=\"table__cell-content\">\n",
      "<strong class=\"address-location-name\">\n",
      "Walmart Supercenter #1512 </strong>\n",
      "<address class=\"address\">\n",
      "800 W Warner Rd<br/>Chandler AZ 85225 <div class=\"address__below\">\n",
      "(1.9 Miles Away) </div>\n",
      "<div class=\"address__links\">\n",
      "<a class=\"address__link\" href=\"https://maps.google.com/maps?q=800+W+Warner+Rd+Chandler+AZ+85225\" rel=\"noopener noreferrer\" target=\"_blank\">Google Maps</a>\n",
      "<span class=\"address__link-separator\"></span>\n",
      "<a class=\"address__link\" href=\"http://maps.apple.com/?address=800+W+Warner+Rd+Chandler+AZ+85225\">Apple Maps</a>\n",
      "</div>\n",
      "</address>\n",
      "</div>\n",
      "</div>\n",
      "<div class=\"table__cell inventory-checker-table__availability\">\n",
      "<div class=\"table__cell-content\">\n",
      "<div class=\"availability-status-indicator availability-status-indicator--stock-0 availability-status-indicator--style-label\" data-store-type=\"3\"><span class=\"availability-status-indicator__text\">Out of Stock</span></div> </div>\n",
      "</div>\n",
      "<div class=\"table__cell inventory-checker-table__price\">\n",
      "<div class=\"table__cell-content\">\n",
      "<div class=\"table__cell-price table__cell-price--muted\">\n",
      "<span class=\"price-formatted price-formatted--style-display\"><span class=\"price-formatted__currency\">$</span><span class=\"price-formatted__dollars\">118</span><span class=\"price-formatted__decimal\">.</span><span class=\"price-formatted__cents\">00</span></span> <span class=\"table__cell-price-discount\">6% off</span>\n",
      "</div>\n",
      "</div>\n",
      "</div>\n",
      "</div>\n",
      "</div>\n",
      "</div>\n"
     ]
    }
   ],
   "source": [
    "all_data = soup.find('div', class_=\"table inventory-checker-table inventory-checker-table--store-availability-price inventory-checker-table--columns-3\")\n",
    "# .find('span', class_=\"table__cell-price-discount\")\n",
    "print(all_data)"
   ]
  },
  {
   "cell_type": "code",
   "execution_count": 211,
   "metadata": {},
   "outputs": [
    {
     "name": "stdout",
     "output_type": "stream",
     "text": [
      "[<span class=\"table__cell-price-discount\">76% off</span>, <span class=\"table__cell-price-discount\">76% off</span>, <span class=\"table__cell-price-discount\">76% off</span>, <span class=\"table__cell-price-discount\">76% off</span>, <span class=\"table__cell-price-discount\">76% off</span>, <span class=\"table__cell-price-discount\">76% off</span>, <span class=\"table__cell-price-discount\">76% off</span>, <span class=\"table__cell-price-discount\">29% off</span>, <span class=\"table__cell-price-discount\">29% off</span>, <span class=\"table__cell-price-discount\">6% off</span>]\n"
     ]
    }
   ],
   "source": [
    "price_value=all_data.find_all('span', class_='table__cell-price-discount')\n",
    "print(price_value)\n",
    "\n"
   ]
  },
  {
   "cell_type": "code",
   "execution_count": 205,
   "metadata": {},
   "outputs": [
    {
     "name": "stdout",
     "output_type": "stream",
     "text": [
      "['76% off', '76% off', '76% off', '76% off', '76% off', '76% off', '76% off', '29% off', '29% off', '6% off']\n"
     ]
    }
   ],
   "source": [
    "\n",
    "html_page=[{\"item_name\": \" \" ,\n",
    "           \"price_off\": \" \", \n",
    "           \"stock\":\"\", \n",
    "           \"store_address\":\"\" , \n",
    "           \"sku\":\"\"}]\n",
    "\n",
    "discount=[]\n",
    "\n",
    "for item in price_value:\n",
    "    discount.append(item.text)\n",
    "    print (discount)   "
   ]
  },
  {
   "cell_type": "code",
   "execution_count": 279,
   "metadata": {},
   "outputs": [
    {
     "name": "stdout",
     "output_type": "stream",
     "text": [
      "1175 S Arizona AveChandler AZ 85286 \n",
      "1955 S Stapley DrMesa AZ 85204 \n",
      "800 E Southern AveTempe AZ 85282 \n",
      "1710 S Greenfield RdMesa AZ 85206 \n",
      "6131 E Southern AveMesa AZ 85206 \n",
      "857 N Dobson RdMesa AZ 85201 \n",
      "4505 E Mckellips RdMesa AZ 85215 \n",
      "2750 E Germann RdChandler AZ 85286 \n",
      "5290 S Power RdGilbert AZ 85295 \n",
      "800 W Warner RdChandler AZ 85225 \n"
     ]
    }
   ],
   "source": [
    "address_ex=[]\n",
    "store_address=all_data.find_all('address', class_='address')\n",
    "for item_addr in store_address:\n",
    " add_str=item_addr.text\n",
    " address_ex.append(add_str.split('\\n'))\n",
    "    \n",
    "for elem in address_ex:\n",
    "    print(elem[1])\n",
    "  \n",
    "\n",
    "\n"
   ]
  },
  {
   "cell_type": "code",
   "execution_count": 253,
   "metadata": {},
   "outputs": [
    {
     "name": "stdout",
     "output_type": "stream",
     "text": [
      "None\n",
      "None\n",
      "None\n",
      "None\n",
      "None\n",
      "None\n",
      "None\n",
      "None\n",
      "None\n",
      "None\n"
     ]
    }
   ],
   "source": [
    "\n",
    "\n",
    "for item in store_address:\n",
    " exact_address=item.find('address', class_='address')\n",
    " print(exact_address)"
   ]
  },
  {
   "cell_type": "code",
   "execution_count": 241,
   "metadata": {},
   "outputs": [
    {
     "ename": "AttributeError",
     "evalue": "ResultSet object has no attribute 'text'. You're probably treating a list of items like a single item. Did you call find_all() when you meant to call find()?",
     "output_type": "error",
     "traceback": [
      "\u001b[1;31m---------------------------------------------------------------------------\u001b[0m",
      "\u001b[1;31mAttributeError\u001b[0m                            Traceback (most recent call last)",
      "\u001b[1;32m<ipython-input-241-ed3ddfbab819>\u001b[0m in \u001b[0;36m<module>\u001b[1;34m\u001b[0m\n\u001b[0;32m      1\u001b[0m \u001b[0mstore_address\u001b[0m\u001b[1;33m=\u001b[0m\u001b[0mall_data\u001b[0m\u001b[1;33m.\u001b[0m\u001b[0mfind_all_previous\u001b[0m\u001b[1;33m(\u001b[0m\u001b[1;34m'div'\u001b[0m\u001b[1;33m,\u001b[0m \u001b[0mclass_\u001b[0m\u001b[1;33m=\u001b[0m\u001b[1;34m'address__below'\u001b[0m\u001b[1;33m)\u001b[0m\u001b[1;33m\u001b[0m\u001b[1;33m\u001b[0m\u001b[0m\n\u001b[1;32m----> 2\u001b[1;33m \u001b[0mprint\u001b[0m\u001b[1;33m(\u001b[0m\u001b[0mstore_address\u001b[0m\u001b[1;33m.\u001b[0m\u001b[0mtext\u001b[0m\u001b[1;33m)\u001b[0m\u001b[1;33m\u001b[0m\u001b[1;33m\u001b[0m\u001b[0m\n\u001b[0m",
      "\u001b[1;32m~\\Anaconda3\\envs\\pythonData\\lib\\site-packages\\bs4\\element.py\u001b[0m in \u001b[0;36m__getattr__\u001b[1;34m(self, key)\u001b[0m\n\u001b[0;32m   1618\u001b[0m     \u001b[1;32mdef\u001b[0m \u001b[0m__getattr__\u001b[0m\u001b[1;33m(\u001b[0m\u001b[0mself\u001b[0m\u001b[1;33m,\u001b[0m \u001b[0mkey\u001b[0m\u001b[1;33m)\u001b[0m\u001b[1;33m:\u001b[0m\u001b[1;33m\u001b[0m\u001b[1;33m\u001b[0m\u001b[0m\n\u001b[0;32m   1619\u001b[0m         raise AttributeError(\n\u001b[1;32m-> 1620\u001b[1;33m             \u001b[1;34m\"ResultSet object has no attribute '%s'. You're probably treating a list of items like a single item. Did you call find_all() when you meant to call find()?\"\u001b[0m \u001b[1;33m%\u001b[0m \u001b[0mkey\u001b[0m\u001b[1;33m\u001b[0m\u001b[1;33m\u001b[0m\u001b[0m\n\u001b[0m\u001b[0;32m   1621\u001b[0m         )\n",
      "\u001b[1;31mAttributeError\u001b[0m: ResultSet object has no attribute 'text'. You're probably treating a list of items like a single item. Did you call find_all() when you meant to call find()?"
     ]
    }
   ],
   "source": [
    "store_address=all_data.find_all_previous('div', class_='address__below')\n",
    "print(store_address.text)"
   ]
  },
  {
   "cell_type": "code",
   "execution_count": 210,
   "metadata": {},
   "outputs": [
    {
     "name": "stdout",
     "output_type": "stream",
     "text": [
      "['\\n1175 S Arizona AveChandler AZ 85286 \\n(2 Miles Away) \\n\\nGoogle Maps\\n\\nApple Maps\\n\\n', '\\n1955 S Stapley DrMesa AZ 85204 \\n(4.7 Miles Away) \\n\\nGoogle Maps\\n\\nApple Maps\\n\\n', '\\n800 E Southern AveTempe AZ 85282 \\n(7.7 Miles Away) \\n\\nGoogle Maps\\n\\nApple Maps\\n\\n', '\\n1710 S Greenfield RdMesa AZ 85206 \\n(7 Miles Away) \\n\\nGoogle Maps\\n\\nApple Maps\\n\\n', '\\n6131 E Southern AveMesa AZ 85206 \\n(9.3 Miles Away) \\n\\nGoogle Maps\\n\\nApple Maps\\n\\n', '\\n857 N Dobson RdMesa AZ 85201 \\n(8.2 Miles Away) \\n\\nGoogle Maps\\n\\nApple Maps\\n\\n', '\\n4505 E Mckellips RdMesa AZ 85215 \\n(10.8 Miles Away) \\n\\nGoogle Maps\\n\\nApple Maps\\n\\n', '\\n2750 E Germann RdChandler AZ 85286 \\n(3.3 Miles Away) \\n\\nGoogle Maps\\n\\nApple Maps\\n\\n', '\\n5290 S Power RdGilbert AZ 85295 \\n(8.3 Miles Away) \\n\\nGoogle Maps\\n\\nApple Maps\\n\\n', '\\n800 W Warner RdChandler AZ 85225 \\n(1.9 Miles Away) \\n\\nGoogle Maps\\n\\nApple Maps\\n\\n']\n",
      "10\n"
     ]
    }
   ],
   "source": [
    "address=[]\n",
    "\n",
    "for item in store_address:\n",
    "    address.append(item.text)\n",
    "print (address)  \n",
    "print(len(address))\n",
    "\n"
   ]
  }
 ],
 "metadata": {
  "kernelspec": {
   "display_name": "Python [conda env:pythonData] *",
   "language": "python",
   "name": "conda-env-pythonData-py"
  },
  "language_info": {
   "codemirror_mode": {
    "name": "ipython",
    "version": 3
   },
   "file_extension": ".py",
   "mimetype": "text/x-python",
   "name": "python",
   "nbconvert_exporter": "python",
   "pygments_lexer": "ipython3",
   "version": "3.7.3"
  }
 },
 "nbformat": 4,
 "nbformat_minor": 2
}
